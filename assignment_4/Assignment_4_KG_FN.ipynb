{
 "cells": [
  {
   "cell_type": "markdown",
   "metadata": {
    "id": "WdHUh4GHBVcP"
   },
   "source": [
    "# Knowledge Graphs Assignment 3"
   ]
  },
  {
   "cell_type": "markdown",
   "metadata": {
    "id": "HFTNEjpjYJB4"
   },
   "source": [
    "## Task I - DBPedia schema ambiguity"
   ]
  },
  {
   "cell_type": "code",
   "execution_count": 2,
   "metadata": {
    "colab": {
     "base_uri": "https://localhost:8080/"
    },
    "executionInfo": {
     "elapsed": 5356,
     "status": "ok",
     "timestamp": 1731242425190,
     "user": {
      "displayName": "fanis nitsos",
      "userId": "08569283295068203465"
     },
     "user_tz": -120
    },
    "id": "SyzIV1I5Ft7f",
    "outputId": "4a8002b8-2a57-4e35-d3a1-a58fdfd9228a"
   },
   "outputs": [
    {
     "name": "stdout",
     "output_type": "stream",
     "text": [
      "Collecting rdflib\n",
      "  Downloading rdflib-7.1.1-py3-none-any.whl.metadata (11 kB)\n",
      "Collecting isodate<1.0.0,>=0.7.2 (from rdflib)\n",
      "  Downloading isodate-0.7.2-py3-none-any.whl.metadata (11 kB)\n",
      "Requirement already satisfied: pyparsing<4,>=2.1.0 in /usr/local/lib/python3.10/dist-packages (from rdflib) (3.2.0)\n",
      "Downloading rdflib-7.1.1-py3-none-any.whl (562 kB)\n",
      "\u001b[2K   \u001b[90m━━━━━━━━━━━━━━━━━━━━━━━━━━━━━━━━━━━━━━━━\u001b[0m \u001b[32m562.4/562.4 kB\u001b[0m \u001b[31m15.2 MB/s\u001b[0m eta \u001b[36m0:00:00\u001b[0m\n",
      "\u001b[?25hDownloading isodate-0.7.2-py3-none-any.whl (22 kB)\n",
      "Installing collected packages: isodate, rdflib\n",
      "Successfully installed isodate-0.7.2 rdflib-7.1.1\n"
     ]
    }
   ],
   "source": [
    "# Install rdflib\n",
    "!pip install rdflib"
   ]
  },
  {
   "cell_type": "code",
   "execution_count": 3,
   "metadata": {
    "executionInfo": {
     "elapsed": 10486,
     "status": "ok",
     "timestamp": 1731242439650,
     "user": {
      "displayName": "fanis nitsos",
      "userId": "08569283295068203465"
     },
     "user_tz": -120
    },
    "id": "Ar8snhJiFwSC"
   },
   "outputs": [],
   "source": [
    "from collections import defaultdict\n",
    "from rdflib import Graph\n",
    "import spacy\n",
    "from itertools import islice\n",
    "import time"
   ]
  },
  {
   "cell_type": "markdown",
   "metadata": {
    "id": "gkeTjAuiS2yY"
   },
   "source": [
    "# attempts #2 to fetch data"
   ]
  },
  {
   "cell_type": "markdown",
   "metadata": {
    "id": "j1zXrvQ3xEM1"
   },
   "source": [
    "### Fetch classes"
   ]
  },
  {
   "cell_type": "code",
   "execution_count": 13,
   "metadata": {
    "colab": {
     "base_uri": "https://localhost:8080/"
    },
    "executionInfo": {
     "elapsed": 922,
     "status": "ok",
     "timestamp": 1731249617951,
     "user": {
      "displayName": "fanis nitsos",
      "userId": "08569283295068203465"
     },
     "user_tz": -120
    },
    "id": "clcMsvRbS4OU",
    "outputId": "05fcd9b7-25e1-49b9-a502-3598a76838dd"
   },
   "outputs": [
    {
     "name": "stdout",
     "output_type": "stream",
     "text": [
      "                             Entity URI     Label Entity Type\n",
      "0   http://dbpedia.org/ontology/Company   company       Class\n",
      "1  http://dbpedia.org/ontology/Activity  activity       Class\n",
      "2      http://dbpedia.org/ontology/Name      name       Class\n",
      "3    http://dbpedia.org/ontology/Person    person       Class\n",
      "4     http://dbpedia.org/ontology/Actor     actor       Class\n"
     ]
    }
   ],
   "source": [
    "import requests\n",
    "import pandas as pd\n",
    "\n",
    "# Define the SPARQL endpoint URL\n",
    "sparql_endpoint = \"https://dbpedia.org/sparql\"\n",
    "\n",
    "# Define the SPARQL query\n",
    "sparql_query = \"\"\"\n",
    "SELECT DISTINCT ?entity_uri ?label ?entity_type\n",
    "WHERE {\n",
    "    {\n",
    "        ?entity_uri rdf:type owl:Class.\n",
    "        ?entity_uri rdfs:label ?label.\n",
    "        FILTER(LANG(?label) = \"en\")\n",
    "        BIND(\"Class\" AS ?entity_type)\n",
    "    }\n",
    "    UNION\n",
    "    {\n",
    "        ?entity_uri rdf:type rdf:Property.\n",
    "        ?entity_uri rdfs:label ?label.\n",
    "        FILTER(LANG(?label) = \"en\")\n",
    "        BIND(\"Property\" AS ?entity_type)\n",
    "    }\n",
    "}\n",
    "LIMIT 10000\n",
    "\"\"\"\n",
    "\n",
    "# Send the request to the DBpedia SPARQL endpoint\n",
    "response = requests.get(sparql_endpoint, params={\n",
    "    'query': sparql_query,\n",
    "    'format': 'json'  # Request results in JSON format\n",
    "})\n",
    "\n",
    "# Check if the request was successful\n",
    "if response.status_code == 200:\n",
    "    # Parse the JSON response\n",
    "    results = response.json()\n",
    "\n",
    "    # Extract the results into a list of dictionaries\n",
    "    bindings = results.get('results', {}).get('bindings', [])\n",
    "\n",
    "    # Convert the results into a pandas DataFrame\n",
    "    data = []\n",
    "    for result in bindings:\n",
    "        entity_uri = result['entity_uri']['value']\n",
    "        label = result['label']['value']\n",
    "        entity_type = result['entity_type']['value']\n",
    "        data.append({'Entity URI': entity_uri, 'Label': label, 'Entity Type': entity_type})\n",
    "\n",
    "    df = pd.DataFrame(data)\n",
    "\n",
    "    # Display the DataFrame\n",
    "    print(df.head())  # Display the first few rows\n",
    "else:\n",
    "    print(\"Error querying DBpedia:\", response.status_code)\n"
   ]
  },
  {
   "cell_type": "code",
   "execution_count": 27,
   "metadata": {
    "colab": {
     "base_uri": "https://localhost:8080/"
    },
    "executionInfo": {
     "elapsed": 582,
     "status": "ok",
     "timestamp": 1731254593410,
     "user": {
      "displayName": "fanis nitsos",
      "userId": "08569283295068203465"
     },
     "user_tz": -120
    },
    "id": "iLB8AKTbS7W-",
    "outputId": "92ac76e8-fa6f-43f3-d060-871b3e8693ed"
   },
   "outputs": [
    {
     "name": "stdout",
     "output_type": "stream",
     "text": [
      "Entity Type 'Class':\n",
      "                                             Entity URI  \\\n",
      "0                   http://dbpedia.org/ontology/Company   \n",
      "1                  http://dbpedia.org/ontology/Activity   \n",
      "2                      http://dbpedia.org/ontology/Name   \n",
      "3                    http://dbpedia.org/ontology/Person   \n",
      "4                     http://dbpedia.org/ontology/Actor   \n",
      "...                                                 ...   \n",
      "1502  http://dbpedia.org/ontology/یوروویژن_گانا_مقاب...   \n",
      "1503  http://dbpedia.org/ontology/یوٹیب_پر_وڈیو_لگان...   \n",
      "1504              http://dbpedia.org/ontology/یوکاریوٹ۔   \n",
      "1505            http://dbpedia.org/ontology/یہودی_رہنما   \n",
      "1506   http://dbpedia.org/ontology/یہودیوں_کی_عبادت_گاہ   \n",
      "\n",
      "                              Label Entity Type  \n",
      "0                           company       Class  \n",
      "1                          activity       Class  \n",
      "2                              name       Class  \n",
      "3                            person       Class  \n",
      "4                             actor       Class  \n",
      "...                             ...         ...  \n",
      "1502  Eurovision song contest entry       Class  \n",
      "1503                       Youtuber       Class  \n",
      "1504                      eukaryote       Class  \n",
      "1505                   JewishLeader       Class  \n",
      "1506                      synagogue       Class  \n",
      "\n",
      "[1507 rows x 3 columns]\n",
      "\n",
      "Entity Type 'Property':\n",
      "                                  Entity URI  \\\n",
      "1507        http://dbpedia.org/property/name   \n",
      "1508      http://dbpedia.org/property/secCik   \n",
      "1509    http://dbpedia.org/ontology/location   \n",
      "1510       http://dbpedia.org/ontology/place   \n",
      "1511  http://dbpedia.org/ontology/birthPlace   \n",
      "...                                      ...   \n",
      "9995    http://dbpedia.org/property/y10title   \n",
      "9996    http://dbpedia.org/property/y11title   \n",
      "9997    http://dbpedia.org/property/y12title   \n",
      "9998    http://dbpedia.org/property/y13title   \n",
      "9999    http://dbpedia.org/property/y14title   \n",
      "\n",
      "                                                  Label Entity Type  \n",
      "1507                                               name    Property  \n",
      "1508                                            sec cik    Property  \n",
      "1509                                           location    Property  \n",
      "1510  Relates an entity to the populated place in wh...    Property  \n",
      "1511                                        birth place    Property  \n",
      "...                                                 ...         ...  \n",
      "9995                                           y10Title    Property  \n",
      "9996                                           y11Title    Property  \n",
      "9997                                           y12Title    Property  \n",
      "9998                                           y13Title    Property  \n",
      "9999                                           y14Title    Property  \n",
      "\n",
      "[8493 rows x 3 columns]\n"
     ]
    }
   ],
   "source": [
    "# Split the DataFrame into two based on 'Entity Type'\n",
    "df_class = df[df['Entity Type'] == 'Class']\n",
    "df_property = df[df['Entity Type'] == 'Property']\n",
    "\n",
    "# Show the resulting DataFrames\n",
    "print(\"Entity Type 'Class':\")\n",
    "print(df_class)\n",
    "\n",
    "print(\"\\nEntity Type 'Property':\")\n",
    "print(df_property)"
   ]
  },
  {
   "cell_type": "code",
   "execution_count": 14,
   "metadata": {
    "colab": {
     "base_uri": "https://localhost:8080/"
    },
    "executionInfo": {
     "elapsed": 488,
     "status": "ok",
     "timestamp": 1731249621692,
     "user": {
      "displayName": "fanis nitsos",
      "userId": "08569283295068203465"
     },
     "user_tz": -120
    },
    "id": "g9bEkonjhEt6",
    "outputId": "f730f75b-02ab-4ada-d790-c28751d1b939"
   },
   "outputs": [
    {
     "name": "stdout",
     "output_type": "stream",
     "text": [
      "Entity Type\n",
      "Property    8493\n",
      "Class       1507\n",
      "Name: count, dtype: int64\n"
     ]
    }
   ],
   "source": [
    "# Count how many \"Class\" and \"Property\" values are in the 'Entity Type' column\n",
    "entity_type_counts = df['Entity Type'].value_counts()\n",
    "\n",
    "# Display the results\n",
    "print(entity_type_counts)"
   ]
  },
  {
   "cell_type": "markdown",
   "metadata": {
    "id": "P5CAb9-bTh2v"
   },
   "source": [
    "# Dictionary-Based Ambiguity Detection"
   ]
  },
  {
   "cell_type": "code",
   "execution_count": 2,
   "metadata": {
    "colab": {
     "base_uri": "https://localhost:8080/"
    },
    "executionInfo": {
     "elapsed": 6398,
     "status": "ok",
     "timestamp": 1731247184039,
     "user": {
      "displayName": "fanis nitsos",
      "userId": "08569283295068203465"
     },
     "user_tz": -120
    },
    "id": "CY3fD0t3UYmA",
    "outputId": "178fe638-1bf6-4951-967c-4f5a637f3906"
   },
   "outputs": [
    {
     "name": "stderr",
     "output_type": "stream",
     "text": [
      "[nltk_data] Downloading package wordnet to /root/nltk_data...\n",
      "[nltk_data]   Package wordnet is already up-to-date!\n"
     ]
    },
    {
     "name": "stdout",
     "output_type": "stream",
     "text": [
      "                                   Entity URI           Label Entity Type  \\\n",
      "0         http://dbpedia.org/ontology/Company         company       Class   \n",
      "1        http://dbpedia.org/ontology/Activity        activity       Class   \n",
      "2            http://dbpedia.org/ontology/Name            name       Class   \n",
      "3          http://dbpedia.org/ontology/Person          person       Class   \n",
      "4           http://dbpedia.org/ontology/Actor           actor       Class   \n",
      "..                                        ...             ...         ...   \n",
      "95       http://dbpedia.org/ontology/Canoeist        canoeist       Class   \n",
      "96       http://dbpedia.org/ontology/Cardinal        cardinal       Class   \n",
      "97  http://dbpedia.org/ontology/CareerStation  career station       Class   \n",
      "98         http://dbpedia.org/ontology/Castle          castle       Class   \n",
      "99           http://dbpedia.org/ontology/Cave            cave       Class   \n",
      "\n",
      "    Ambiguity  \n",
      "0        True  \n",
      "1        True  \n",
      "2        True  \n",
      "3       False  \n",
      "4       False  \n",
      "..        ...  \n",
      "95      False  \n",
      "96       True  \n",
      "97      False  \n",
      "98       True  \n",
      "99      False  \n",
      "\n",
      "[100 rows x 4 columns]\n"
     ]
    }
   ],
   "source": [
    "import pandas as pd\n",
    "from nltk.corpus import wordnet as wn\n",
    "import nltk\n",
    "\n",
    "# Ensure WordNet is downloaded\n",
    "nltk.download('wordnet')\n",
    "\n",
    "# Function to check ambiguity using WordNet by counting senses\n",
    "def is_ambiguous_with_wordnet(term):\n",
    "    senses = wn.synsets(term)\n",
    "    return len(senses) > 3  # Returns True if the term has more than one meaning\n",
    "\n",
    "# Function to detect ambiguous entities based on WordNet from a DataFrame\n",
    "def detect_ambiguous_entities_wordnet(df):\n",
    "    ambiguous_entities = []\n",
    "\n",
    "    # Iterate through the DataFrame rows\n",
    "    for index, row in df.iterrows():\n",
    "        label = row['Label']\n",
    "\n",
    "        # Check if the label has multiple meanings in WordNet\n",
    "        if is_ambiguous_with_wordnet(label):\n",
    "            ambiguous_entities.append({\n",
    "                'Entity URI': row['Entity URI'],\n",
    "                'Label': label,\n",
    "                'Entity Type': row['Entity Type'],\n",
    "                'Ambiguity': True\n",
    "            })\n",
    "        else:\n",
    "            ambiguous_entities.append({\n",
    "                'Entity URI': row['Entity URI'],\n",
    "                'Label': label,\n",
    "                'Entity Type': row['Entity Type'],\n",
    "                'Ambiguity': False\n",
    "            })\n",
    "\n",
    "    # Convert results to DataFrame for easy display and further processing\n",
    "    ambiguous_entities_df = pd.DataFrame(ambiguous_entities)\n",
    "    return ambiguous_entities_df\n",
    "\n",
    "\n",
    "# Run the ambiguity detection function\n",
    "ambiguity_results = detect_ambiguous_entities_wordnet(df)\n",
    "\n",
    "# Display the results\n",
    "print(ambiguity_results)\n"
   ]
  },
  {
   "cell_type": "code",
   "execution_count": 3,
   "metadata": {
    "colab": {
     "base_uri": "https://localhost:8080/"
    },
    "executionInfo": {
     "elapsed": 3,
     "status": "ok",
     "timestamp": 1731247184039,
     "user": {
      "displayName": "fanis nitsos",
      "userId": "08569283295068203465"
     },
     "user_tz": -120
    },
    "id": "_7mB3w7wXmtd",
    "outputId": "c91b5c3d-cb0a-447c-9b23-773a2742758a"
   },
   "outputs": [
    {
     "name": "stdout",
     "output_type": "stream",
     "text": [
      "Ambiguity\n",
      "False    74\n",
      "True     26\n",
      "Name: count, dtype: int64\n"
     ]
    }
   ],
   "source": [
    "# Count how many True and False values there are in the 'Ambiguity' column\n",
    "ambiguity_counts = ambiguity_results['Ambiguity'].value_counts()\n",
    "\n",
    "# Display the result\n",
    "print(ambiguity_counts)\n"
   ]
  },
  {
   "cell_type": "markdown",
   "metadata": {
    "id": "or8EHgKVTsRr"
   },
   "source": [
    "# LLM ambiguity Detection"
   ]
  },
  {
   "cell_type": "code",
   "execution_count": 4,
   "metadata": {
    "colab": {
     "base_uri": "https://localhost:8080/"
    },
    "executionInfo": {
     "elapsed": 3478,
     "status": "ok",
     "timestamp": 1731247190829,
     "user": {
      "displayName": "fanis nitsos",
      "userId": "08569283295068203465"
     },
     "user_tz": -120
    },
    "id": "eCIY7q2WXupl",
    "outputId": "e5a4459e-5916-4ebb-ca83-1a14edcca4d3"
   },
   "outputs": [
    {
     "name": "stdout",
     "output_type": "stream",
     "text": [
      "Requirement already satisfied: openai==0.28 in /usr/local/lib/python3.10/dist-packages (0.28.0)\n",
      "Requirement already satisfied: requests>=2.20 in /usr/local/lib/python3.10/dist-packages (from openai==0.28) (2.32.3)\n",
      "Requirement already satisfied: tqdm in /usr/local/lib/python3.10/dist-packages (from openai==0.28) (4.66.6)\n",
      "Requirement already satisfied: aiohttp in /usr/local/lib/python3.10/dist-packages (from openai==0.28) (3.10.10)\n",
      "Requirement already satisfied: charset-normalizer<4,>=2 in /usr/local/lib/python3.10/dist-packages (from requests>=2.20->openai==0.28) (3.4.0)\n",
      "Requirement already satisfied: idna<4,>=2.5 in /usr/local/lib/python3.10/dist-packages (from requests>=2.20->openai==0.28) (3.10)\n",
      "Requirement already satisfied: urllib3<3,>=1.21.1 in /usr/local/lib/python3.10/dist-packages (from requests>=2.20->openai==0.28) (2.2.3)\n",
      "Requirement already satisfied: certifi>=2017.4.17 in /usr/local/lib/python3.10/dist-packages (from requests>=2.20->openai==0.28) (2024.8.30)\n",
      "Requirement already satisfied: aiohappyeyeballs>=2.3.0 in /usr/local/lib/python3.10/dist-packages (from aiohttp->openai==0.28) (2.4.3)\n",
      "Requirement already satisfied: aiosignal>=1.1.2 in /usr/local/lib/python3.10/dist-packages (from aiohttp->openai==0.28) (1.3.1)\n",
      "Requirement already satisfied: attrs>=17.3.0 in /usr/local/lib/python3.10/dist-packages (from aiohttp->openai==0.28) (24.2.0)\n",
      "Requirement already satisfied: frozenlist>=1.1.1 in /usr/local/lib/python3.10/dist-packages (from aiohttp->openai==0.28) (1.5.0)\n",
      "Requirement already satisfied: multidict<7.0,>=4.5 in /usr/local/lib/python3.10/dist-packages (from aiohttp->openai==0.28) (6.1.0)\n",
      "Requirement already satisfied: yarl<2.0,>=1.12.0 in /usr/local/lib/python3.10/dist-packages (from aiohttp->openai==0.28) (1.17.0)\n",
      "Requirement already satisfied: async-timeout<5.0,>=4.0 in /usr/local/lib/python3.10/dist-packages (from aiohttp->openai==0.28) (4.0.3)\n",
      "Requirement already satisfied: typing-extensions>=4.1.0 in /usr/local/lib/python3.10/dist-packages (from multidict<7.0,>=4.5->aiohttp->openai==0.28) (4.12.2)\n",
      "Requirement already satisfied: propcache>=0.2.0 in /usr/local/lib/python3.10/dist-packages (from yarl<2.0,>=1.12.0->aiohttp->openai==0.28) (0.2.0)\n"
     ]
    }
   ],
   "source": [
    "!pip install openai==0.28"
   ]
  },
  {
   "cell_type": "code",
   "execution_count": null,
   "metadata": {
    "colab": {
     "base_uri": "https://localhost:8080/"
    },
    "executionInfo": {
     "elapsed": 178501,
     "status": "ok",
     "timestamp": 1731247372147,
     "user": {
      "displayName": "fanis nitsos",
      "userId": "08569283295068203465"
     },
     "user_tz": -120
    },
    "id": "UyksryiBWDnx",
    "outputId": "052a3fa8-7b10-42a7-88e1-a80083ffc5ad"
   },
   "outputs": [
    {
     "name": "stdout",
     "output_type": "stream",
     "text": [
      "                                   Entity URI           Label Entity Type  \\\n",
      "0         http://dbpedia.org/ontology/Company         company       Class   \n",
      "1        http://dbpedia.org/ontology/Activity        activity       Class   \n",
      "2            http://dbpedia.org/ontology/Name            name       Class   \n",
      "3          http://dbpedia.org/ontology/Person          person       Class   \n",
      "4           http://dbpedia.org/ontology/Actor           actor       Class   \n",
      "..                                        ...             ...         ...   \n",
      "95       http://dbpedia.org/ontology/Canoeist        canoeist       Class   \n",
      "96       http://dbpedia.org/ontology/Cardinal        cardinal       Class   \n",
      "97  http://dbpedia.org/ontology/CareerStation  career station       Class   \n",
      "98         http://dbpedia.org/ontology/Castle          castle       Class   \n",
      "99           http://dbpedia.org/ontology/Cave            cave       Class   \n",
      "\n",
      "    Ambiguity  \n",
      "0        True  \n",
      "1        True  \n",
      "2        True  \n",
      "3        True  \n",
      "4       False  \n",
      "..        ...  \n",
      "95      False  \n",
      "96       True  \n",
      "97       True  \n",
      "98       True  \n",
      "99      False  \n",
      "\n",
      "[100 rows x 4 columns]\n"
     ]
    }
   ],
   "source": [
    "import openai\n",
    "import pandas as pd\n",
    "\n",
    "# Set your OpenAI API key\n",
    "openai.api_key = \"\"\n",
    "\n",
    "# Function to check ambiguity using the LLM\n",
    "def is_ambiguous_with_llm(term):\n",
    "    prompt = f\"Is the term '{term}' ambiguous? List any distinct meanings if it has multiple interpretations.\"\n",
    "\n",
    "    response = openai.ChatCompletion.create(\n",
    "        model=\"gpt-3.5-turbo\",\n",
    "        messages=[{\"role\": \"user\", \"content\": prompt}]\n",
    "    )\n",
    "\n",
    "    answer = response.choices[0].message['content']\n",
    "    return \"multiple interpretations\" in answer.lower() or \"multiple meanings\" in answer.lower()\n",
    "\n",
    "# Detect ambiguous entities based on the LLM from a DataFrame\n",
    "def detect_ambiguous_entities_llm(df):\n",
    "    ambiguous_entities = []\n",
    "\n",
    "    # Iterate through the DataFrame rows\n",
    "    for index, row in df.iterrows():\n",
    "        label = row['Label']\n",
    "\n",
    "        # Check if the label is ambiguous using the LLM\n",
    "        if is_ambiguous_with_llm(label):\n",
    "            ambiguous_entities.append({\n",
    "                'Entity URI': row['Entity URI'],\n",
    "                'Label': label,\n",
    "                'Entity Type': row['Entity Type'],\n",
    "                'Ambiguity': True\n",
    "            })\n",
    "        else:\n",
    "            ambiguous_entities.append({\n",
    "                'Entity URI': row['Entity URI'],\n",
    "                'Label': label,\n",
    "                'Entity Type': row['Entity Type'],\n",
    "                'Ambiguity': False\n",
    "            })\n",
    "\n",
    "    # Convert the results into a DataFrame for easy display and further processing\n",
    "    ambiguous_entities_df = pd.DataFrame(ambiguous_entities)\n",
    "    return ambiguous_entities_df\n",
    "\n",
    "\n",
    "# Run the ambiguity detection function\n",
    "ambiguity_results_llm = detect_ambiguous_entities_llm(df)\n",
    "\n",
    "# Display the results\n",
    "print(ambiguity_results_llm)\n"
   ]
  },
  {
   "cell_type": "code",
   "execution_count": 6,
   "metadata": {
    "colab": {
     "base_uri": "https://localhost:8080/"
    },
    "executionInfo": {
     "elapsed": 561,
     "status": "ok",
     "timestamp": 1731247794009,
     "user": {
      "displayName": "fanis nitsos",
      "userId": "08569283295068203465"
     },
     "user_tz": -120
    },
    "id": "g7zpFuOvTvxR",
    "outputId": "3170fd87-20c7-4f58-e68c-ad594cf4f11f"
   },
   "outputs": [
    {
     "name": "stdout",
     "output_type": "stream",
     "text": [
      "Ambiguity\n",
      "False    56\n",
      "True     44\n",
      "Name: count, dtype: int64\n"
     ]
    }
   ],
   "source": [
    "# Count how many True and False values there are in the 'Ambiguity' column\n",
    "ambiguity_counts_llm = ambiguity_results_llm['Ambiguity'].value_counts()\n",
    "\n",
    "# Display the result\n",
    "print(ambiguity_counts_llm)"
   ]
  },
  {
   "cell_type": "markdown",
   "metadata": {
    "id": "eOIKWrGic3CI"
   },
   "source": [
    "## Part 2 - compare esco with DBPedia"
   ]
  },
  {
   "cell_type": "code",
   "execution_count": 29,
   "metadata": {
    "colab": {
     "base_uri": "https://localhost:8080/",
     "height": 380
    },
    "executionInfo": {
     "elapsed": 566,
     "status": "ok",
     "timestamp": 1731258879134,
     "user": {
      "displayName": "fanis nitsos",
      "userId": "08569283295068203465"
     },
     "user_tz": -120
    },
    "id": "z29Hy-y6c1i0",
    "outputId": "75bd3164-c48a-4696-deeb-8dacd41cc314"
   },
   "outputs": [
    {
     "data": {
      "application/vnd.google.colaboratory.intrinsic+json": {
       "summary": "{\n  \"name\": \"esco_skills\",\n  \"rows\": 2902,\n  \"fields\": [\n    {\n      \"column\": \"conceptType\",\n      \"properties\": {\n        \"dtype\": \"category\",\n        \"num_unique_values\": 1,\n        \"samples\": [\n          \"KnowledgeSkillCompetence\"\n        ],\n        \"semantic_type\": \"\",\n        \"description\": \"\"\n      }\n    },\n    {\n      \"column\": \"conceptUri\",\n      \"properties\": {\n        \"dtype\": \"string\",\n        \"num_unique_values\": 2902,\n        \"samples\": [\n          \"http://data.europa.eu/esco/skill/0d564cb6-98ef-4c18-9392-dd69e6724cbf\"\n        ],\n        \"semantic_type\": \"\",\n        \"description\": \"\"\n      }\n    },\n    {\n      \"column\": \"skillType\",\n      \"properties\": {\n        \"dtype\": \"category\",\n        \"num_unique_values\": 1,\n        \"samples\": [\n          \"knowledge\"\n        ],\n        \"semantic_type\": \"\",\n        \"description\": \"\"\n      }\n    },\n    {\n      \"column\": \"preferredLabel\",\n      \"properties\": {\n        \"dtype\": \"string\",\n        \"num_unique_values\": 2902,\n        \"samples\": [\n          \"risk transfer\"\n        ],\n        \"semantic_type\": \"\",\n        \"description\": \"\"\n      }\n    },\n    {\n      \"column\": \"altLabels\",\n      \"properties\": {\n        \"dtype\": \"string\",\n        \"num_unique_values\": 2679,\n        \"samples\": [\n          \"participation in government\\nstate governance engagement\\nstate governance approval\\ngovernment engagement\\ngovernment participation\\ngovernment approval\\nstate governance participation\\nparticipation in state governance\"\n        ],\n        \"semantic_type\": \"\",\n        \"description\": \"\"\n      }\n    },\n    {\n      \"column\": \"description\",\n      \"properties\": {\n        \"dtype\": \"string\",\n        \"num_unique_values\": 2902,\n        \"samples\": [\n          \"The financial techniques aimed at avoiding damaging financially a business and instead, protect it in its operations. It is the operation of transferring liabilities and claims to third parties that have the financial muscle and specialise in bundling and managing risks in scale.\"\n        ],\n        \"semantic_type\": \"\",\n        \"description\": \"\"\n      }\n    }\n  ]\n}",
       "type": "dataframe",
       "variable_name": "esco_skills"
      },
      "text/html": [
       "\n",
       "  <div id=\"df-3b6894f2-7451-4576-82c7-6cba18bc7df4\" class=\"colab-df-container\">\n",
       "    <div>\n",
       "<style scoped>\n",
       "    .dataframe tbody tr th:only-of-type {\n",
       "        vertical-align: middle;\n",
       "    }\n",
       "\n",
       "    .dataframe tbody tr th {\n",
       "        vertical-align: top;\n",
       "    }\n",
       "\n",
       "    .dataframe thead th {\n",
       "        text-align: right;\n",
       "    }\n",
       "</style>\n",
       "<table border=\"1\" class=\"dataframe\">\n",
       "  <thead>\n",
       "    <tr style=\"text-align: right;\">\n",
       "      <th></th>\n",
       "      <th>conceptType</th>\n",
       "      <th>conceptUri</th>\n",
       "      <th>skillType</th>\n",
       "      <th>preferredLabel</th>\n",
       "      <th>altLabels</th>\n",
       "      <th>description</th>\n",
       "    </tr>\n",
       "  </thead>\n",
       "  <tbody>\n",
       "    <tr>\n",
       "      <th>0</th>\n",
       "      <td>KnowledgeSkillCompetence</td>\n",
       "      <td>http://data.europa.eu/esco/skill/000f1d3d-220f...</td>\n",
       "      <td>knowledge</td>\n",
       "      <td>Haskell</td>\n",
       "      <td>NaN</td>\n",
       "      <td>The techniques and principles of software deve...</td>\n",
       "    </tr>\n",
       "    <tr>\n",
       "      <th>1</th>\n",
       "      <td>KnowledgeSkillCompetence</td>\n",
       "      <td>http://data.europa.eu/esco/skill/00506f28-e884...</td>\n",
       "      <td>knowledge</td>\n",
       "      <td>sport and exercise medicine</td>\n",
       "      <td>sports injury treatment\\nsports medicine\\nexer...</td>\n",
       "      <td>Prevention and treatement of injuries or condi...</td>\n",
       "    </tr>\n",
       "    <tr>\n",
       "      <th>2</th>\n",
       "      <td>KnowledgeSkillCompetence</td>\n",
       "      <td>http://data.europa.eu/esco/skill/00c04e40-35ea...</td>\n",
       "      <td>knowledge</td>\n",
       "      <td>Incremental development</td>\n",
       "      <td>NaN</td>\n",
       "      <td>The incremental development model is a methodo...</td>\n",
       "    </tr>\n",
       "    <tr>\n",
       "      <th>3</th>\n",
       "      <td>KnowledgeSkillCompetence</td>\n",
       "      <td>http://data.europa.eu/esco/skill/00c51318-4ea9...</td>\n",
       "      <td>knowledge</td>\n",
       "      <td>use of special equipment for daily activities</td>\n",
       "      <td>NaN</td>\n",
       "      <td>The types of special equipment, prosthetics an...</td>\n",
       "    </tr>\n",
       "    <tr>\n",
       "      <th>4</th>\n",
       "      <td>KnowledgeSkillCompetence</td>\n",
       "      <td>http://data.europa.eu/esco/skill/00c85cbc-2b24...</td>\n",
       "      <td>knowledge</td>\n",
       "      <td>sawing techniques</td>\n",
       "      <td>sawing technologies\\nsawing methods\\nsawing te...</td>\n",
       "      <td>Various sawing techniques for using manual as ...</td>\n",
       "    </tr>\n",
       "  </tbody>\n",
       "</table>\n",
       "</div>\n",
       "    <div class=\"colab-df-buttons\">\n",
       "\n",
       "  <div class=\"colab-df-container\">\n",
       "    <button class=\"colab-df-convert\" onclick=\"convertToInteractive('df-3b6894f2-7451-4576-82c7-6cba18bc7df4')\"\n",
       "            title=\"Convert this dataframe to an interactive table.\"\n",
       "            style=\"display:none;\">\n",
       "\n",
       "  <svg xmlns=\"http://www.w3.org/2000/svg\" height=\"24px\" viewBox=\"0 -960 960 960\">\n",
       "    <path d=\"M120-120v-720h720v720H120Zm60-500h600v-160H180v160Zm220 220h160v-160H400v160Zm0 220h160v-160H400v160ZM180-400h160v-160H180v160Zm440 0h160v-160H620v160ZM180-180h160v-160H180v160Zm440 0h160v-160H620v160Z\"/>\n",
       "  </svg>\n",
       "    </button>\n",
       "\n",
       "  <style>\n",
       "    .colab-df-container {\n",
       "      display:flex;\n",
       "      gap: 12px;\n",
       "    }\n",
       "\n",
       "    .colab-df-convert {\n",
       "      background-color: #E8F0FE;\n",
       "      border: none;\n",
       "      border-radius: 50%;\n",
       "      cursor: pointer;\n",
       "      display: none;\n",
       "      fill: #1967D2;\n",
       "      height: 32px;\n",
       "      padding: 0 0 0 0;\n",
       "      width: 32px;\n",
       "    }\n",
       "\n",
       "    .colab-df-convert:hover {\n",
       "      background-color: #E2EBFA;\n",
       "      box-shadow: 0px 1px 2px rgba(60, 64, 67, 0.3), 0px 1px 3px 1px rgba(60, 64, 67, 0.15);\n",
       "      fill: #174EA6;\n",
       "    }\n",
       "\n",
       "    .colab-df-buttons div {\n",
       "      margin-bottom: 4px;\n",
       "    }\n",
       "\n",
       "    [theme=dark] .colab-df-convert {\n",
       "      background-color: #3B4455;\n",
       "      fill: #D2E3FC;\n",
       "    }\n",
       "\n",
       "    [theme=dark] .colab-df-convert:hover {\n",
       "      background-color: #434B5C;\n",
       "      box-shadow: 0px 1px 3px 1px rgba(0, 0, 0, 0.15);\n",
       "      filter: drop-shadow(0px 1px 2px rgba(0, 0, 0, 0.3));\n",
       "      fill: #FFFFFF;\n",
       "    }\n",
       "  </style>\n",
       "\n",
       "    <script>\n",
       "      const buttonEl =\n",
       "        document.querySelector('#df-3b6894f2-7451-4576-82c7-6cba18bc7df4 button.colab-df-convert');\n",
       "      buttonEl.style.display =\n",
       "        google.colab.kernel.accessAllowed ? 'block' : 'none';\n",
       "\n",
       "      async function convertToInteractive(key) {\n",
       "        const element = document.querySelector('#df-3b6894f2-7451-4576-82c7-6cba18bc7df4');\n",
       "        const dataTable =\n",
       "          await google.colab.kernel.invokeFunction('convertToInteractive',\n",
       "                                                    [key], {});\n",
       "        if (!dataTable) return;\n",
       "\n",
       "        const docLinkHtml = 'Like what you see? Visit the ' +\n",
       "          '<a target=\"_blank\" href=https://colab.research.google.com/notebooks/data_table.ipynb>data table notebook</a>'\n",
       "          + ' to learn more about interactive tables.';\n",
       "        element.innerHTML = '';\n",
       "        dataTable['output_type'] = 'display_data';\n",
       "        await google.colab.output.renderOutput(dataTable, element);\n",
       "        const docLink = document.createElement('div');\n",
       "        docLink.innerHTML = docLinkHtml;\n",
       "        element.appendChild(docLink);\n",
       "      }\n",
       "    </script>\n",
       "  </div>\n",
       "\n",
       "\n",
       "<div id=\"df-248c44e5-7baa-4cc1-84a3-5ced126ab5cf\">\n",
       "  <button class=\"colab-df-quickchart\" onclick=\"quickchart('df-248c44e5-7baa-4cc1-84a3-5ced126ab5cf')\"\n",
       "            title=\"Suggest charts\"\n",
       "            style=\"display:none;\">\n",
       "\n",
       "<svg xmlns=\"http://www.w3.org/2000/svg\" height=\"24px\"viewBox=\"0 0 24 24\"\n",
       "     width=\"24px\">\n",
       "    <g>\n",
       "        <path d=\"M19 3H5c-1.1 0-2 .9-2 2v14c0 1.1.9 2 2 2h14c1.1 0 2-.9 2-2V5c0-1.1-.9-2-2-2zM9 17H7v-7h2v7zm4 0h-2V7h2v10zm4 0h-2v-4h2v4z\"/>\n",
       "    </g>\n",
       "</svg>\n",
       "  </button>\n",
       "\n",
       "<style>\n",
       "  .colab-df-quickchart {\n",
       "      --bg-color: #E8F0FE;\n",
       "      --fill-color: #1967D2;\n",
       "      --hover-bg-color: #E2EBFA;\n",
       "      --hover-fill-color: #174EA6;\n",
       "      --disabled-fill-color: #AAA;\n",
       "      --disabled-bg-color: #DDD;\n",
       "  }\n",
       "\n",
       "  [theme=dark] .colab-df-quickchart {\n",
       "      --bg-color: #3B4455;\n",
       "      --fill-color: #D2E3FC;\n",
       "      --hover-bg-color: #434B5C;\n",
       "      --hover-fill-color: #FFFFFF;\n",
       "      --disabled-bg-color: #3B4455;\n",
       "      --disabled-fill-color: #666;\n",
       "  }\n",
       "\n",
       "  .colab-df-quickchart {\n",
       "    background-color: var(--bg-color);\n",
       "    border: none;\n",
       "    border-radius: 50%;\n",
       "    cursor: pointer;\n",
       "    display: none;\n",
       "    fill: var(--fill-color);\n",
       "    height: 32px;\n",
       "    padding: 0;\n",
       "    width: 32px;\n",
       "  }\n",
       "\n",
       "  .colab-df-quickchart:hover {\n",
       "    background-color: var(--hover-bg-color);\n",
       "    box-shadow: 0 1px 2px rgba(60, 64, 67, 0.3), 0 1px 3px 1px rgba(60, 64, 67, 0.15);\n",
       "    fill: var(--button-hover-fill-color);\n",
       "  }\n",
       "\n",
       "  .colab-df-quickchart-complete:disabled,\n",
       "  .colab-df-quickchart-complete:disabled:hover {\n",
       "    background-color: var(--disabled-bg-color);\n",
       "    fill: var(--disabled-fill-color);\n",
       "    box-shadow: none;\n",
       "  }\n",
       "\n",
       "  .colab-df-spinner {\n",
       "    border: 2px solid var(--fill-color);\n",
       "    border-color: transparent;\n",
       "    border-bottom-color: var(--fill-color);\n",
       "    animation:\n",
       "      spin 1s steps(1) infinite;\n",
       "  }\n",
       "\n",
       "  @keyframes spin {\n",
       "    0% {\n",
       "      border-color: transparent;\n",
       "      border-bottom-color: var(--fill-color);\n",
       "      border-left-color: var(--fill-color);\n",
       "    }\n",
       "    20% {\n",
       "      border-color: transparent;\n",
       "      border-left-color: var(--fill-color);\n",
       "      border-top-color: var(--fill-color);\n",
       "    }\n",
       "    30% {\n",
       "      border-color: transparent;\n",
       "      border-left-color: var(--fill-color);\n",
       "      border-top-color: var(--fill-color);\n",
       "      border-right-color: var(--fill-color);\n",
       "    }\n",
       "    40% {\n",
       "      border-color: transparent;\n",
       "      border-right-color: var(--fill-color);\n",
       "      border-top-color: var(--fill-color);\n",
       "    }\n",
       "    60% {\n",
       "      border-color: transparent;\n",
       "      border-right-color: var(--fill-color);\n",
       "    }\n",
       "    80% {\n",
       "      border-color: transparent;\n",
       "      border-right-color: var(--fill-color);\n",
       "      border-bottom-color: var(--fill-color);\n",
       "    }\n",
       "    90% {\n",
       "      border-color: transparent;\n",
       "      border-bottom-color: var(--fill-color);\n",
       "    }\n",
       "  }\n",
       "</style>\n",
       "\n",
       "  <script>\n",
       "    async function quickchart(key) {\n",
       "      const quickchartButtonEl =\n",
       "        document.querySelector('#' + key + ' button');\n",
       "      quickchartButtonEl.disabled = true;  // To prevent multiple clicks.\n",
       "      quickchartButtonEl.classList.add('colab-df-spinner');\n",
       "      try {\n",
       "        const charts = await google.colab.kernel.invokeFunction(\n",
       "            'suggestCharts', [key], {});\n",
       "      } catch (error) {\n",
       "        console.error('Error during call to suggestCharts:', error);\n",
       "      }\n",
       "      quickchartButtonEl.classList.remove('colab-df-spinner');\n",
       "      quickchartButtonEl.classList.add('colab-df-quickchart-complete');\n",
       "    }\n",
       "    (() => {\n",
       "      let quickchartButtonEl =\n",
       "        document.querySelector('#df-248c44e5-7baa-4cc1-84a3-5ced126ab5cf button');\n",
       "      quickchartButtonEl.style.display =\n",
       "        google.colab.kernel.accessAllowed ? 'block' : 'none';\n",
       "    })();\n",
       "  </script>\n",
       "</div>\n",
       "\n",
       "    </div>\n",
       "  </div>\n"
      ],
      "text/plain": [
       "                conceptType  \\\n",
       "0  KnowledgeSkillCompetence   \n",
       "1  KnowledgeSkillCompetence   \n",
       "2  KnowledgeSkillCompetence   \n",
       "3  KnowledgeSkillCompetence   \n",
       "4  KnowledgeSkillCompetence   \n",
       "\n",
       "                                          conceptUri  skillType  \\\n",
       "0  http://data.europa.eu/esco/skill/000f1d3d-220f...  knowledge   \n",
       "1  http://data.europa.eu/esco/skill/00506f28-e884...  knowledge   \n",
       "2  http://data.europa.eu/esco/skill/00c04e40-35ea...  knowledge   \n",
       "3  http://data.europa.eu/esco/skill/00c51318-4ea9...  knowledge   \n",
       "4  http://data.europa.eu/esco/skill/00c85cbc-2b24...  knowledge   \n",
       "\n",
       "                                  preferredLabel  \\\n",
       "0                                        Haskell   \n",
       "1                    sport and exercise medicine   \n",
       "2                        Incremental development   \n",
       "3  use of special equipment for daily activities   \n",
       "4                              sawing techniques   \n",
       "\n",
       "                                           altLabels  \\\n",
       "0                                                NaN   \n",
       "1  sports injury treatment\\nsports medicine\\nexer...   \n",
       "2                                                NaN   \n",
       "3                                                NaN   \n",
       "4  sawing technologies\\nsawing methods\\nsawing te...   \n",
       "\n",
       "                                         description  \n",
       "0  The techniques and principles of software deve...  \n",
       "1  Prevention and treatement of injuries or condi...  \n",
       "2  The incremental development model is a methodo...  \n",
       "3  The types of special equipment, prosthetics an...  \n",
       "4  Various sawing techniques for using manual as ...  "
      ]
     },
     "execution_count": 29,
     "metadata": {},
     "output_type": "execute_result"
    }
   ],
   "source": [
    "import pandas as pd\n",
    "\n",
    "# Load ESCO skills dataset\n",
    "esco_skills = pd.read_csv(\"esco_skills_en.csv\")  # Adjust the file path if necessary\n",
    "\n",
    "# Inspect the data\n",
    "esco_skills.head()\n"
   ]
  },
  {
   "cell_type": "code",
   "execution_count": 30,
   "metadata": {
    "executionInfo": {
     "elapsed": 553,
     "status": "ok",
     "timestamp": 1731258952513,
     "user": {
      "displayName": "fanis nitsos",
      "userId": "08569283295068203465"
     },
     "user_tz": -120
    },
    "id": "DJ5iuQLMEx6p"
   },
   "outputs": [],
   "source": [
    "# Select the first 10 rows\n",
    "esco_skills_short = esco_skills.head(10)\n"
   ]
  },
  {
   "cell_type": "code",
   "execution_count": 31,
   "metadata": {
    "colab": {
     "base_uri": "https://localhost:8080/"
    },
    "executionInfo": {
     "elapsed": 96320,
     "status": "ok",
     "timestamp": 1731259098490,
     "user": {
      "displayName": "fanis nitsos",
      "userId": "08569283295068203465"
     },
     "user_tz": -120
    },
    "id": "YU0qTfuWEhyx",
    "outputId": "450a3bb4-3674-4ec6-d38e-a2422bbfa454"
   },
   "outputs": [
    {
     "name": "stdout",
     "output_type": "stream",
     "text": [
      "                                              entity  \\\n",
      "0  http://dbpedia.org/resource/Captain_Robert_Has...   \n",
      "1  http://dbpedia.org/resource/Captain_Robert_Has...   \n",
      "2  http://dbpedia.org/resource/Captain_Robert_Has...   \n",
      "3  http://dbpedia.org/resource/Captain_Robert_Has...   \n",
      "4  http://dbpedia.org/resource/Captain_Robert_Has...   \n",
      "\n",
      "                    entityLabel  \\\n",
      "0  Captain Robert Haskell House   \n",
      "1  Captain Robert Haskell House   \n",
      "2  Captain Robert Haskell House   \n",
      "3  Captain Robert Haskell House   \n",
      "4  Captain Robert Haskell House   \n",
      "\n",
      "                                               class               classLabel  \\\n",
      "0  http://dbpedia.org/ontology/ArchitecturalStruc...  architectural structure   \n",
      "1  http://dbpedia.org/ontology/ArchitecturalStruc...  architectural structure   \n",
      "2               http://dbpedia.org/ontology/Building                 building   \n",
      "3               http://dbpedia.org/ontology/Building                 building   \n",
      "4                http://www.w3.org/2002/07/owl#Thing                            \n",
      "\n",
      "  preferredLabel  \n",
      "0        Haskell  \n",
      "1        Haskell  \n",
      "2        Haskell  \n",
      "3        Haskell  \n",
      "4        Haskell  \n"
     ]
    }
   ],
   "source": [
    "import pandas as pd\n",
    "from SPARQLWrapper import SPARQLWrapper, JSON\n",
    "\n",
    "\n",
    "# DBpedia SPARQL endpoint\n",
    "sparql = SPARQLWrapper(\"http://dbpedia.org/sparql\")\n",
    "\n",
    "# Function to perform SPARQL query for a given skill label\n",
    "def query_dbpedia(skill_label):\n",
    "    # Define the SPARQL query, using skill_label dynamically\n",
    "    sparql_query = f\"\"\"\n",
    "    PREFIX rdfs: <http://www.w3.org/2000/01/rdf-schema#>\n",
    "    PREFIX dbo: <http://dbpedia.org/ontology/>\n",
    "    PREFIX dbp: <http://dbpedia.org/property/>\n",
    "\n",
    "    SELECT ?entity ?entityLabel ?class ?classLabel\n",
    "    WHERE {{\n",
    "      ?entity rdfs:label ?entityLabel .\n",
    "      ?entity a ?class .\n",
    "\n",
    "      # Filter for entities labeled as skill_label in English\n",
    "      FILTER (LANG(?entityLabel) = \"en\" && CONTAINS(LCASE(?entityLabel), \"{skill_label.lower()}\")).\n",
    "\n",
    "      # Optional: Retrieve the class label if available\n",
    "      OPTIONAL {{\n",
    "        ?class rdfs:label ?classLabel .\n",
    "        FILTER (LANG(?classLabel) = \"en\")\n",
    "      }}\n",
    "    }}\n",
    "    LIMIT 10\n",
    "    \"\"\"\n",
    "\n",
    "    # Set query and return format\n",
    "    sparql.setQuery(sparql_query)\n",
    "    sparql.setReturnFormat(JSON)\n",
    "\n",
    "    # Execute the query and fetch results\n",
    "    try:\n",
    "        results = sparql.query().convert()\n",
    "        # Parse results into a list of dictionaries\n",
    "        output = [\n",
    "            {\n",
    "                \"entity\": result[\"entity\"][\"value\"],\n",
    "                \"entityLabel\": result[\"entityLabel\"][\"value\"],\n",
    "                \"class\": result[\"class\"][\"value\"],\n",
    "                \"classLabel\": result.get(\"classLabel\", {}).get(\"value\", \"\")\n",
    "            }\n",
    "            for result in results[\"results\"][\"bindings\"]\n",
    "        ]\n",
    "    except Exception as e:\n",
    "        print(f\"Error querying DBpedia for skill '{skill_label}':\", e)\n",
    "        output = []\n",
    "\n",
    "    return output\n",
    "\n",
    "# Prepare an empty list to store the results\n",
    "all_results = []\n",
    "\n",
    "# Loop through each skill in esco_skills['preferredLabel'] and query DBpedia\n",
    "for skill in esco_skills_short[\"preferredLabel\"]:\n",
    "    skill_results = query_dbpedia(skill)\n",
    "    # Append each result with the original skill label for traceability\n",
    "    for result in skill_results:\n",
    "        result[\"preferredLabel\"] = skill\n",
    "        all_results.append(result)\n",
    "\n",
    "# Convert results to a DataFrame\n",
    "results_df = pd.DataFrame(all_results)\n",
    "\n",
    "# Display the first few rows of the results\n",
    "print(results_df.head())\n",
    "\n"
   ]
  },
  {
   "cell_type": "code",
   "execution_count": 9,
   "metadata": {
    "colab": {
     "base_uri": "https://localhost:8080/",
     "height": 1000
    },
    "executionInfo": {
     "elapsed": 358829,
     "status": "error",
     "timestamp": 1731249436782,
     "user": {
      "displayName": "fanis nitsos",
      "userId": "08569283295068203465"
     },
     "user_tz": -120
    },
    "id": "hi7qfva4aOM6",
    "outputId": "89f4166a-edcc-4d86-cbb9-b9527cb91b14"
   },
   "outputs": [
    {
     "name": "stderr",
     "output_type": "stream",
     "text": [
      "ERROR:root:Internal Python error in the inspect module.\n",
      "Below is the traceback from this internal error.\n",
      "\n"
     ]
    },
    {
     "name": "stdout",
     "output_type": "stream",
     "text": [
      "Traceback (most recent call last):\n",
      "  File \"/usr/local/lib/python3.10/dist-packages/IPython/core/interactiveshell.py\", line 3553, in run_code\n",
      "    exec(code_obj, self.user_global_ns, self.user_ns)\n",
      "  File \"<ipython-input-9-bb66b53fe12f>\", line 31, in <cell line: 31>\n",
      "    esco_skills[['dbpedia_entity_uri', 'dbpedia_class_uri', 'dbpedia_class_label']] = esco_skills['preferredLabel'].apply(lambda x: pd.Series(get_dbpedia_entity_and_class(x)))\n",
      "  File \"/usr/local/lib/python3.10/dist-packages/pandas/core/series.py\", line 4924, in apply\n",
      "    ).apply()\n",
      "  File \"/usr/local/lib/python3.10/dist-packages/pandas/core/apply.py\", line 1427, in apply\n",
      "    return self.apply_standard()\n",
      "  File \"/usr/local/lib/python3.10/dist-packages/pandas/core/apply.py\", line 1507, in apply_standard\n",
      "    mapped = obj._map_values(\n",
      "  File \"/usr/local/lib/python3.10/dist-packages/pandas/core/base.py\", line 921, in _map_values\n",
      "    return algorithms.map_array(arr, mapper, na_action=na_action, convert=convert)\n",
      "  File \"/usr/local/lib/python3.10/dist-packages/pandas/core/algorithms.py\", line 1743, in map_array\n",
      "    return lib.map_infer(values, mapper, convert=convert)\n",
      "  File \"lib.pyx\", line 2972, in pandas._libs.lib.map_infer\n",
      "  File \"<ipython-input-9-bb66b53fe12f>\", line 31, in <lambda>\n",
      "    esco_skills[['dbpedia_entity_uri', 'dbpedia_class_uri', 'dbpedia_class_label']] = esco_skills['preferredLabel'].apply(lambda x: pd.Series(get_dbpedia_entity_and_class(x)))\n",
      "  File \"<ipython-input-9-bb66b53fe12f>\", line 19, in get_dbpedia_entity_and_class\n",
      "    results = sparql.query().convert()\n",
      "  File \"/usr/local/lib/python3.10/dist-packages/SPARQLWrapper/Wrapper.py\", line 960, in query\n",
      "    return QueryResult(self._query())\n",
      "  File \"/usr/local/lib/python3.10/dist-packages/SPARQLWrapper/Wrapper.py\", line 926, in _query\n",
      "    response = urlopener(request)\n",
      "  File \"/usr/lib/python3.10/urllib/request.py\", line 216, in urlopen\n",
      "    return opener.open(url, data, timeout)\n",
      "  File \"/usr/lib/python3.10/urllib/request.py\", line 519, in open\n",
      "    response = self._open(req, data)\n",
      "  File \"/usr/lib/python3.10/urllib/request.py\", line 536, in _open\n",
      "    result = self._call_chain(self.handle_open, protocol, protocol +\n",
      "  File \"/usr/lib/python3.10/urllib/request.py\", line 496, in _call_chain\n",
      "    result = func(*args)\n",
      "  File \"/usr/lib/python3.10/urllib/request.py\", line 1391, in https_open\n",
      "    return self.do_open(http.client.HTTPSConnection, req,\n",
      "  File \"/usr/lib/python3.10/urllib/request.py\", line 1352, in do_open\n",
      "    r = h.getresponse()\n",
      "  File \"/usr/lib/python3.10/http/client.py\", line 1375, in getresponse\n",
      "    response.begin()\n",
      "  File \"/usr/lib/python3.10/http/client.py\", line 318, in begin\n",
      "    version, status, reason = self._read_status()\n",
      "  File \"/usr/lib/python3.10/http/client.py\", line 279, in _read_status\n",
      "    line = str(self.fp.readline(_MAXLINE + 1), \"iso-8859-1\")\n",
      "  File \"/usr/lib/python3.10/socket.py\", line 705, in readinto\n",
      "    return self._sock.recv_into(b)\n",
      "  File \"/usr/lib/python3.10/ssl.py\", line 1303, in recv_into\n",
      "    return self.read(nbytes, buffer)\n",
      "  File \"/usr/lib/python3.10/ssl.py\", line 1159, in read\n",
      "    return self._sslobj.read(len, buffer)\n",
      "KeyboardInterrupt\n",
      "\n",
      "During handling of the above exception, another exception occurred:\n",
      "\n",
      "Traceback (most recent call last):\n",
      "  File \"/usr/local/lib/python3.10/dist-packages/IPython/core/interactiveshell.py\", line 2099, in showtraceback\n",
      "    stb = value._render_traceback_()\n",
      "AttributeError: 'KeyboardInterrupt' object has no attribute '_render_traceback_'\n",
      "\n",
      "During handling of the above exception, another exception occurred:\n",
      "\n",
      "Traceback (most recent call last):\n",
      "  File \"/usr/local/lib/python3.10/dist-packages/IPython/core/ultratb.py\", line 1101, in get_records\n",
      "    return _fixed_getinnerframes(etb, number_of_lines_of_context, tb_offset)\n",
      "  File \"/usr/local/lib/python3.10/dist-packages/IPython/core/ultratb.py\", line 248, in wrapped\n",
      "    return f(*args, **kwargs)\n",
      "  File \"/usr/local/lib/python3.10/dist-packages/IPython/core/ultratb.py\", line 281, in _fixed_getinnerframes\n",
      "    records = fix_frame_records_filenames(inspect.getinnerframes(etb, context))\n",
      "  File \"/usr/lib/python3.10/inspect.py\", line 1662, in getinnerframes\n",
      "    frameinfo = (tb.tb_frame,) + getframeinfo(tb, context)\n",
      "  File \"/usr/lib/python3.10/inspect.py\", line 1620, in getframeinfo\n",
      "    filename = getsourcefile(frame) or getfile(frame)\n",
      "  File \"/usr/lib/python3.10/inspect.py\", line 829, in getsourcefile\n",
      "    module = getmodule(object, filename)\n",
      "  File \"/usr/lib/python3.10/inspect.py\", line 873, in getmodule\n",
      "    continue\n",
      "KeyboardInterrupt\n"
     ]
    },
    {
     "ename": "TypeError",
     "evalue": "object of type 'NoneType' has no len()",
     "output_type": "error",
     "traceback": [
      "\u001b[0;31m---------------------------------------------------------------------------\u001b[0m",
      "\u001b[0;31mKeyboardInterrupt\u001b[0m                         Traceback (most recent call last)",
      "    \u001b[0;31m[... skipping hidden 1 frame]\u001b[0m\n",
      "\u001b[0;32m<ipython-input-9-bb66b53fe12f>\u001b[0m in \u001b[0;36m<cell line: 31>\u001b[0;34m()\u001b[0m\n\u001b[1;32m     30\u001b[0m \u001b[0;31m# Apply the function to all ESCO skills\u001b[0m\u001b[0;34m\u001b[0m\u001b[0;34m\u001b[0m\u001b[0m\n\u001b[0;32m---> 31\u001b[0;31m \u001b[0mesco_skills\u001b[0m\u001b[0;34m[\u001b[0m\u001b[0;34m[\u001b[0m\u001b[0;34m'dbpedia_entity_uri'\u001b[0m\u001b[0;34m,\u001b[0m \u001b[0;34m'dbpedia_class_uri'\u001b[0m\u001b[0;34m,\u001b[0m \u001b[0;34m'dbpedia_class_label'\u001b[0m\u001b[0;34m]\u001b[0m\u001b[0;34m]\u001b[0m \u001b[0;34m=\u001b[0m \u001b[0mesco_skills\u001b[0m\u001b[0;34m[\u001b[0m\u001b[0;34m'preferredLabel'\u001b[0m\u001b[0;34m]\u001b[0m\u001b[0;34m.\u001b[0m\u001b[0mapply\u001b[0m\u001b[0;34m(\u001b[0m\u001b[0;32mlambda\u001b[0m \u001b[0mx\u001b[0m\u001b[0;34m:\u001b[0m \u001b[0mpd\u001b[0m\u001b[0;34m.\u001b[0m\u001b[0mSeries\u001b[0m\u001b[0;34m(\u001b[0m\u001b[0mget_dbpedia_entity_and_class\u001b[0m\u001b[0;34m(\u001b[0m\u001b[0mx\u001b[0m\u001b[0;34m)\u001b[0m\u001b[0;34m)\u001b[0m\u001b[0;34m)\u001b[0m\u001b[0;34m\u001b[0m\u001b[0;34m\u001b[0m\u001b[0m\n\u001b[0m",
      "\u001b[0;32m/usr/local/lib/python3.10/dist-packages/pandas/core/series.py\u001b[0m in \u001b[0;36mapply\u001b[0;34m(self, func, convert_dtype, args, by_row, **kwargs)\u001b[0m\n\u001b[1;32m   4923\u001b[0m             \u001b[0mkwargs\u001b[0m\u001b[0;34m=\u001b[0m\u001b[0mkwargs\u001b[0m\u001b[0;34m,\u001b[0m\u001b[0;34m\u001b[0m\u001b[0;34m\u001b[0m\u001b[0m\n\u001b[0;32m-> 4924\u001b[0;31m         ).apply()\n\u001b[0m\u001b[1;32m   4925\u001b[0m \u001b[0;34m\u001b[0m\u001b[0m\n",
      "\u001b[0;32m/usr/local/lib/python3.10/dist-packages/pandas/core/apply.py\u001b[0m in \u001b[0;36mapply\u001b[0;34m(self)\u001b[0m\n\u001b[1;32m   1426\u001b[0m         \u001b[0;31m# self.func is Callable\u001b[0m\u001b[0;34m\u001b[0m\u001b[0;34m\u001b[0m\u001b[0m\n\u001b[0;32m-> 1427\u001b[0;31m         \u001b[0;32mreturn\u001b[0m \u001b[0mself\u001b[0m\u001b[0;34m.\u001b[0m\u001b[0mapply_standard\u001b[0m\u001b[0;34m(\u001b[0m\u001b[0;34m)\u001b[0m\u001b[0;34m\u001b[0m\u001b[0;34m\u001b[0m\u001b[0m\n\u001b[0m\u001b[1;32m   1428\u001b[0m \u001b[0;34m\u001b[0m\u001b[0m\n",
      "\u001b[0;32m/usr/local/lib/python3.10/dist-packages/pandas/core/apply.py\u001b[0m in \u001b[0;36mapply_standard\u001b[0;34m(self)\u001b[0m\n\u001b[1;32m   1506\u001b[0m         \u001b[0maction\u001b[0m \u001b[0;34m=\u001b[0m \u001b[0;34m\"ignore\"\u001b[0m \u001b[0;32mif\u001b[0m \u001b[0misinstance\u001b[0m\u001b[0;34m(\u001b[0m\u001b[0mobj\u001b[0m\u001b[0;34m.\u001b[0m\u001b[0mdtype\u001b[0m\u001b[0;34m,\u001b[0m \u001b[0mCategoricalDtype\u001b[0m\u001b[0;34m)\u001b[0m \u001b[0;32melse\u001b[0m \u001b[0;32mNone\u001b[0m\u001b[0;34m\u001b[0m\u001b[0;34m\u001b[0m\u001b[0m\n\u001b[0;32m-> 1507\u001b[0;31m         mapped = obj._map_values(\n\u001b[0m\u001b[1;32m   1508\u001b[0m             \u001b[0mmapper\u001b[0m\u001b[0;34m=\u001b[0m\u001b[0mcurried\u001b[0m\u001b[0;34m,\u001b[0m \u001b[0mna_action\u001b[0m\u001b[0;34m=\u001b[0m\u001b[0maction\u001b[0m\u001b[0;34m,\u001b[0m \u001b[0mconvert\u001b[0m\u001b[0;34m=\u001b[0m\u001b[0mself\u001b[0m\u001b[0;34m.\u001b[0m\u001b[0mconvert_dtype\u001b[0m\u001b[0;34m\u001b[0m\u001b[0;34m\u001b[0m\u001b[0m\n",
      "\u001b[0;32m/usr/local/lib/python3.10/dist-packages/pandas/core/base.py\u001b[0m in \u001b[0;36m_map_values\u001b[0;34m(self, mapper, na_action, convert)\u001b[0m\n\u001b[1;32m    920\u001b[0m \u001b[0;34m\u001b[0m\u001b[0m\n\u001b[0;32m--> 921\u001b[0;31m         \u001b[0;32mreturn\u001b[0m \u001b[0malgorithms\u001b[0m\u001b[0;34m.\u001b[0m\u001b[0mmap_array\u001b[0m\u001b[0;34m(\u001b[0m\u001b[0marr\u001b[0m\u001b[0;34m,\u001b[0m \u001b[0mmapper\u001b[0m\u001b[0;34m,\u001b[0m \u001b[0mna_action\u001b[0m\u001b[0;34m=\u001b[0m\u001b[0mna_action\u001b[0m\u001b[0;34m,\u001b[0m \u001b[0mconvert\u001b[0m\u001b[0;34m=\u001b[0m\u001b[0mconvert\u001b[0m\u001b[0;34m)\u001b[0m\u001b[0;34m\u001b[0m\u001b[0;34m\u001b[0m\u001b[0m\n\u001b[0m\u001b[1;32m    922\u001b[0m \u001b[0;34m\u001b[0m\u001b[0m\n",
      "\u001b[0;32m/usr/local/lib/python3.10/dist-packages/pandas/core/algorithms.py\u001b[0m in \u001b[0;36mmap_array\u001b[0;34m(arr, mapper, na_action, convert)\u001b[0m\n\u001b[1;32m   1742\u001b[0m     \u001b[0;32mif\u001b[0m \u001b[0mna_action\u001b[0m \u001b[0;32mis\u001b[0m \u001b[0;32mNone\u001b[0m\u001b[0;34m:\u001b[0m\u001b[0;34m\u001b[0m\u001b[0;34m\u001b[0m\u001b[0m\n\u001b[0;32m-> 1743\u001b[0;31m         \u001b[0;32mreturn\u001b[0m \u001b[0mlib\u001b[0m\u001b[0;34m.\u001b[0m\u001b[0mmap_infer\u001b[0m\u001b[0;34m(\u001b[0m\u001b[0mvalues\u001b[0m\u001b[0;34m,\u001b[0m \u001b[0mmapper\u001b[0m\u001b[0;34m,\u001b[0m \u001b[0mconvert\u001b[0m\u001b[0;34m=\u001b[0m\u001b[0mconvert\u001b[0m\u001b[0;34m)\u001b[0m\u001b[0;34m\u001b[0m\u001b[0;34m\u001b[0m\u001b[0m\n\u001b[0m\u001b[1;32m   1744\u001b[0m     \u001b[0;32melse\u001b[0m\u001b[0;34m:\u001b[0m\u001b[0;34m\u001b[0m\u001b[0;34m\u001b[0m\u001b[0m\n",
      "\u001b[0;32mlib.pyx\u001b[0m in \u001b[0;36mpandas._libs.lib.map_infer\u001b[0;34m()\u001b[0m\n",
      "\u001b[0;32m<ipython-input-9-bb66b53fe12f>\u001b[0m in \u001b[0;36m<lambda>\u001b[0;34m(x)\u001b[0m\n\u001b[1;32m     30\u001b[0m \u001b[0;31m# Apply the function to all ESCO skills\u001b[0m\u001b[0;34m\u001b[0m\u001b[0;34m\u001b[0m\u001b[0m\n\u001b[0;32m---> 31\u001b[0;31m \u001b[0mesco_skills\u001b[0m\u001b[0;34m[\u001b[0m\u001b[0;34m[\u001b[0m\u001b[0;34m'dbpedia_entity_uri'\u001b[0m\u001b[0;34m,\u001b[0m \u001b[0;34m'dbpedia_class_uri'\u001b[0m\u001b[0;34m,\u001b[0m \u001b[0;34m'dbpedia_class_label'\u001b[0m\u001b[0;34m]\u001b[0m\u001b[0;34m]\u001b[0m \u001b[0;34m=\u001b[0m \u001b[0mesco_skills\u001b[0m\u001b[0;34m[\u001b[0m\u001b[0;34m'preferredLabel'\u001b[0m\u001b[0;34m]\u001b[0m\u001b[0;34m.\u001b[0m\u001b[0mapply\u001b[0m\u001b[0;34m(\u001b[0m\u001b[0;32mlambda\u001b[0m \u001b[0mx\u001b[0m\u001b[0;34m:\u001b[0m \u001b[0mpd\u001b[0m\u001b[0;34m.\u001b[0m\u001b[0mSeries\u001b[0m\u001b[0;34m(\u001b[0m\u001b[0mget_dbpedia_entity_and_class\u001b[0m\u001b[0;34m(\u001b[0m\u001b[0mx\u001b[0m\u001b[0;34m)\u001b[0m\u001b[0;34m)\u001b[0m\u001b[0;34m)\u001b[0m\u001b[0;34m\u001b[0m\u001b[0;34m\u001b[0m\u001b[0m\n\u001b[0m",
      "\u001b[0;32m<ipython-input-9-bb66b53fe12f>\u001b[0m in \u001b[0;36mget_dbpedia_entity_and_class\u001b[0;34m(skill_name)\u001b[0m\n\u001b[1;32m     18\u001b[0m     \u001b[0msparql\u001b[0m\u001b[0;34m.\u001b[0m\u001b[0msetReturnFormat\u001b[0m\u001b[0;34m(\u001b[0m\u001b[0mJSON\u001b[0m\u001b[0;34m)\u001b[0m\u001b[0;34m\u001b[0m\u001b[0;34m\u001b[0m\u001b[0m\n\u001b[0;32m---> 19\u001b[0;31m     \u001b[0mresults\u001b[0m \u001b[0;34m=\u001b[0m \u001b[0msparql\u001b[0m\u001b[0;34m.\u001b[0m\u001b[0mquery\u001b[0m\u001b[0;34m(\u001b[0m\u001b[0;34m)\u001b[0m\u001b[0;34m.\u001b[0m\u001b[0mconvert\u001b[0m\u001b[0;34m(\u001b[0m\u001b[0;34m)\u001b[0m\u001b[0;34m\u001b[0m\u001b[0;34m\u001b[0m\u001b[0m\n\u001b[0m\u001b[1;32m     20\u001b[0m \u001b[0;34m\u001b[0m\u001b[0m\n",
      "\u001b[0;32m/usr/local/lib/python3.10/dist-packages/SPARQLWrapper/Wrapper.py\u001b[0m in \u001b[0;36mquery\u001b[0;34m(self)\u001b[0m\n\u001b[1;32m    959\u001b[0m         \"\"\"\n\u001b[0;32m--> 960\u001b[0;31m         \u001b[0;32mreturn\u001b[0m \u001b[0mQueryResult\u001b[0m\u001b[0;34m(\u001b[0m\u001b[0mself\u001b[0m\u001b[0;34m.\u001b[0m\u001b[0m_query\u001b[0m\u001b[0;34m(\u001b[0m\u001b[0;34m)\u001b[0m\u001b[0;34m)\u001b[0m\u001b[0;34m\u001b[0m\u001b[0;34m\u001b[0m\u001b[0m\n\u001b[0m\u001b[1;32m    961\u001b[0m \u001b[0;34m\u001b[0m\u001b[0m\n",
      "\u001b[0;32m/usr/local/lib/python3.10/dist-packages/SPARQLWrapper/Wrapper.py\u001b[0m in \u001b[0;36m_query\u001b[0;34m(self)\u001b[0m\n\u001b[1;32m    925\u001b[0m             \u001b[0;32melse\u001b[0m\u001b[0;34m:\u001b[0m\u001b[0;34m\u001b[0m\u001b[0;34m\u001b[0m\u001b[0m\n\u001b[0;32m--> 926\u001b[0;31m                 \u001b[0mresponse\u001b[0m \u001b[0;34m=\u001b[0m \u001b[0murlopener\u001b[0m\u001b[0;34m(\u001b[0m\u001b[0mrequest\u001b[0m\u001b[0;34m)\u001b[0m\u001b[0;34m\u001b[0m\u001b[0;34m\u001b[0m\u001b[0m\n\u001b[0m\u001b[1;32m    927\u001b[0m             \u001b[0;32mreturn\u001b[0m \u001b[0mresponse\u001b[0m\u001b[0;34m,\u001b[0m \u001b[0mself\u001b[0m\u001b[0;34m.\u001b[0m\u001b[0mreturnFormat\u001b[0m\u001b[0;34m\u001b[0m\u001b[0;34m\u001b[0m\u001b[0m\n",
      "\u001b[0;32m/usr/lib/python3.10/urllib/request.py\u001b[0m in \u001b[0;36murlopen\u001b[0;34m(url, data, timeout, cafile, capath, cadefault, context)\u001b[0m\n\u001b[1;32m    215\u001b[0m         \u001b[0mopener\u001b[0m \u001b[0;34m=\u001b[0m \u001b[0m_opener\u001b[0m\u001b[0;34m\u001b[0m\u001b[0;34m\u001b[0m\u001b[0m\n\u001b[0;32m--> 216\u001b[0;31m     \u001b[0;32mreturn\u001b[0m \u001b[0mopener\u001b[0m\u001b[0;34m.\u001b[0m\u001b[0mopen\u001b[0m\u001b[0;34m(\u001b[0m\u001b[0murl\u001b[0m\u001b[0;34m,\u001b[0m \u001b[0mdata\u001b[0m\u001b[0;34m,\u001b[0m \u001b[0mtimeout\u001b[0m\u001b[0;34m)\u001b[0m\u001b[0;34m\u001b[0m\u001b[0;34m\u001b[0m\u001b[0m\n\u001b[0m\u001b[1;32m    217\u001b[0m \u001b[0;34m\u001b[0m\u001b[0m\n",
      "\u001b[0;32m/usr/lib/python3.10/urllib/request.py\u001b[0m in \u001b[0;36mopen\u001b[0;34m(self, fullurl, data, timeout)\u001b[0m\n\u001b[1;32m    518\u001b[0m         \u001b[0msys\u001b[0m\u001b[0;34m.\u001b[0m\u001b[0maudit\u001b[0m\u001b[0;34m(\u001b[0m\u001b[0;34m'urllib.Request'\u001b[0m\u001b[0;34m,\u001b[0m \u001b[0mreq\u001b[0m\u001b[0;34m.\u001b[0m\u001b[0mfull_url\u001b[0m\u001b[0;34m,\u001b[0m \u001b[0mreq\u001b[0m\u001b[0;34m.\u001b[0m\u001b[0mdata\u001b[0m\u001b[0;34m,\u001b[0m \u001b[0mreq\u001b[0m\u001b[0;34m.\u001b[0m\u001b[0mheaders\u001b[0m\u001b[0;34m,\u001b[0m \u001b[0mreq\u001b[0m\u001b[0;34m.\u001b[0m\u001b[0mget_method\u001b[0m\u001b[0;34m(\u001b[0m\u001b[0;34m)\u001b[0m\u001b[0;34m)\u001b[0m\u001b[0;34m\u001b[0m\u001b[0;34m\u001b[0m\u001b[0m\n\u001b[0;32m--> 519\u001b[0;31m         \u001b[0mresponse\u001b[0m \u001b[0;34m=\u001b[0m \u001b[0mself\u001b[0m\u001b[0;34m.\u001b[0m\u001b[0m_open\u001b[0m\u001b[0;34m(\u001b[0m\u001b[0mreq\u001b[0m\u001b[0;34m,\u001b[0m \u001b[0mdata\u001b[0m\u001b[0;34m)\u001b[0m\u001b[0;34m\u001b[0m\u001b[0;34m\u001b[0m\u001b[0m\n\u001b[0m\u001b[1;32m    520\u001b[0m \u001b[0;34m\u001b[0m\u001b[0m\n",
      "\u001b[0;32m/usr/lib/python3.10/urllib/request.py\u001b[0m in \u001b[0;36m_open\u001b[0;34m(self, req, data)\u001b[0m\n\u001b[1;32m    535\u001b[0m         \u001b[0mprotocol\u001b[0m \u001b[0;34m=\u001b[0m \u001b[0mreq\u001b[0m\u001b[0;34m.\u001b[0m\u001b[0mtype\u001b[0m\u001b[0;34m\u001b[0m\u001b[0;34m\u001b[0m\u001b[0m\n\u001b[0;32m--> 536\u001b[0;31m         result = self._call_chain(self.handle_open, protocol, protocol +\n\u001b[0m\u001b[1;32m    537\u001b[0m                                   '_open', req)\n",
      "\u001b[0;32m/usr/lib/python3.10/urllib/request.py\u001b[0m in \u001b[0;36m_call_chain\u001b[0;34m(self, chain, kind, meth_name, *args)\u001b[0m\n\u001b[1;32m    495\u001b[0m             \u001b[0mfunc\u001b[0m \u001b[0;34m=\u001b[0m \u001b[0mgetattr\u001b[0m\u001b[0;34m(\u001b[0m\u001b[0mhandler\u001b[0m\u001b[0;34m,\u001b[0m \u001b[0mmeth_name\u001b[0m\u001b[0;34m)\u001b[0m\u001b[0;34m\u001b[0m\u001b[0;34m\u001b[0m\u001b[0m\n\u001b[0;32m--> 496\u001b[0;31m             \u001b[0mresult\u001b[0m \u001b[0;34m=\u001b[0m \u001b[0mfunc\u001b[0m\u001b[0;34m(\u001b[0m\u001b[0;34m*\u001b[0m\u001b[0margs\u001b[0m\u001b[0;34m)\u001b[0m\u001b[0;34m\u001b[0m\u001b[0;34m\u001b[0m\u001b[0m\n\u001b[0m\u001b[1;32m    497\u001b[0m             \u001b[0;32mif\u001b[0m \u001b[0mresult\u001b[0m \u001b[0;32mis\u001b[0m \u001b[0;32mnot\u001b[0m \u001b[0;32mNone\u001b[0m\u001b[0;34m:\u001b[0m\u001b[0;34m\u001b[0m\u001b[0;34m\u001b[0m\u001b[0m\n",
      "\u001b[0;32m/usr/lib/python3.10/urllib/request.py\u001b[0m in \u001b[0;36mhttps_open\u001b[0;34m(self, req)\u001b[0m\n\u001b[1;32m   1390\u001b[0m         \u001b[0;32mdef\u001b[0m \u001b[0mhttps_open\u001b[0m\u001b[0;34m(\u001b[0m\u001b[0mself\u001b[0m\u001b[0;34m,\u001b[0m \u001b[0mreq\u001b[0m\u001b[0;34m)\u001b[0m\u001b[0;34m:\u001b[0m\u001b[0;34m\u001b[0m\u001b[0;34m\u001b[0m\u001b[0m\n\u001b[0;32m-> 1391\u001b[0;31m             return self.do_open(http.client.HTTPSConnection, req,\n\u001b[0m\u001b[1;32m   1392\u001b[0m                 context=self._context, check_hostname=self._check_hostname)\n",
      "\u001b[0;32m/usr/lib/python3.10/urllib/request.py\u001b[0m in \u001b[0;36mdo_open\u001b[0;34m(self, http_class, req, **http_conn_args)\u001b[0m\n\u001b[1;32m   1351\u001b[0m                 \u001b[0;32mraise\u001b[0m \u001b[0mURLError\u001b[0m\u001b[0;34m(\u001b[0m\u001b[0merr\u001b[0m\u001b[0;34m)\u001b[0m\u001b[0;34m\u001b[0m\u001b[0;34m\u001b[0m\u001b[0m\n\u001b[0;32m-> 1352\u001b[0;31m             \u001b[0mr\u001b[0m \u001b[0;34m=\u001b[0m \u001b[0mh\u001b[0m\u001b[0;34m.\u001b[0m\u001b[0mgetresponse\u001b[0m\u001b[0;34m(\u001b[0m\u001b[0;34m)\u001b[0m\u001b[0;34m\u001b[0m\u001b[0;34m\u001b[0m\u001b[0m\n\u001b[0m\u001b[1;32m   1353\u001b[0m         \u001b[0;32mexcept\u001b[0m\u001b[0;34m:\u001b[0m\u001b[0;34m\u001b[0m\u001b[0;34m\u001b[0m\u001b[0m\n",
      "\u001b[0;32m/usr/lib/python3.10/http/client.py\u001b[0m in \u001b[0;36mgetresponse\u001b[0;34m(self)\u001b[0m\n\u001b[1;32m   1374\u001b[0m             \u001b[0;32mtry\u001b[0m\u001b[0;34m:\u001b[0m\u001b[0;34m\u001b[0m\u001b[0;34m\u001b[0m\u001b[0m\n\u001b[0;32m-> 1375\u001b[0;31m                 \u001b[0mresponse\u001b[0m\u001b[0;34m.\u001b[0m\u001b[0mbegin\u001b[0m\u001b[0;34m(\u001b[0m\u001b[0;34m)\u001b[0m\u001b[0;34m\u001b[0m\u001b[0;34m\u001b[0m\u001b[0m\n\u001b[0m\u001b[1;32m   1376\u001b[0m             \u001b[0;32mexcept\u001b[0m \u001b[0mConnectionError\u001b[0m\u001b[0;34m:\u001b[0m\u001b[0;34m\u001b[0m\u001b[0;34m\u001b[0m\u001b[0m\n",
      "\u001b[0;32m/usr/lib/python3.10/http/client.py\u001b[0m in \u001b[0;36mbegin\u001b[0;34m(self)\u001b[0m\n\u001b[1;32m    317\u001b[0m         \u001b[0;32mwhile\u001b[0m \u001b[0;32mTrue\u001b[0m\u001b[0;34m:\u001b[0m\u001b[0;34m\u001b[0m\u001b[0;34m\u001b[0m\u001b[0m\n\u001b[0;32m--> 318\u001b[0;31m             \u001b[0mversion\u001b[0m\u001b[0;34m,\u001b[0m \u001b[0mstatus\u001b[0m\u001b[0;34m,\u001b[0m \u001b[0mreason\u001b[0m \u001b[0;34m=\u001b[0m \u001b[0mself\u001b[0m\u001b[0;34m.\u001b[0m\u001b[0m_read_status\u001b[0m\u001b[0;34m(\u001b[0m\u001b[0;34m)\u001b[0m\u001b[0;34m\u001b[0m\u001b[0;34m\u001b[0m\u001b[0m\n\u001b[0m\u001b[1;32m    319\u001b[0m             \u001b[0;32mif\u001b[0m \u001b[0mstatus\u001b[0m \u001b[0;34m!=\u001b[0m \u001b[0mCONTINUE\u001b[0m\u001b[0;34m:\u001b[0m\u001b[0;34m\u001b[0m\u001b[0;34m\u001b[0m\u001b[0m\n",
      "\u001b[0;32m/usr/lib/python3.10/http/client.py\u001b[0m in \u001b[0;36m_read_status\u001b[0;34m(self)\u001b[0m\n\u001b[1;32m    278\u001b[0m     \u001b[0;32mdef\u001b[0m \u001b[0m_read_status\u001b[0m\u001b[0;34m(\u001b[0m\u001b[0mself\u001b[0m\u001b[0;34m)\u001b[0m\u001b[0;34m:\u001b[0m\u001b[0;34m\u001b[0m\u001b[0;34m\u001b[0m\u001b[0m\n\u001b[0;32m--> 279\u001b[0;31m         \u001b[0mline\u001b[0m \u001b[0;34m=\u001b[0m \u001b[0mstr\u001b[0m\u001b[0;34m(\u001b[0m\u001b[0mself\u001b[0m\u001b[0;34m.\u001b[0m\u001b[0mfp\u001b[0m\u001b[0;34m.\u001b[0m\u001b[0mreadline\u001b[0m\u001b[0;34m(\u001b[0m\u001b[0m_MAXLINE\u001b[0m \u001b[0;34m+\u001b[0m \u001b[0;36m1\u001b[0m\u001b[0;34m)\u001b[0m\u001b[0;34m,\u001b[0m \u001b[0;34m\"iso-8859-1\"\u001b[0m\u001b[0;34m)\u001b[0m\u001b[0;34m\u001b[0m\u001b[0;34m\u001b[0m\u001b[0m\n\u001b[0m\u001b[1;32m    280\u001b[0m         \u001b[0;32mif\u001b[0m \u001b[0mlen\u001b[0m\u001b[0;34m(\u001b[0m\u001b[0mline\u001b[0m\u001b[0;34m)\u001b[0m \u001b[0;34m>\u001b[0m \u001b[0m_MAXLINE\u001b[0m\u001b[0;34m:\u001b[0m\u001b[0;34m\u001b[0m\u001b[0;34m\u001b[0m\u001b[0m\n",
      "\u001b[0;32m/usr/lib/python3.10/socket.py\u001b[0m in \u001b[0;36mreadinto\u001b[0;34m(self, b)\u001b[0m\n\u001b[1;32m    704\u001b[0m             \u001b[0;32mtry\u001b[0m\u001b[0;34m:\u001b[0m\u001b[0;34m\u001b[0m\u001b[0;34m\u001b[0m\u001b[0m\n\u001b[0;32m--> 705\u001b[0;31m                 \u001b[0;32mreturn\u001b[0m \u001b[0mself\u001b[0m\u001b[0;34m.\u001b[0m\u001b[0m_sock\u001b[0m\u001b[0;34m.\u001b[0m\u001b[0mrecv_into\u001b[0m\u001b[0;34m(\u001b[0m\u001b[0mb\u001b[0m\u001b[0;34m)\u001b[0m\u001b[0;34m\u001b[0m\u001b[0;34m\u001b[0m\u001b[0m\n\u001b[0m\u001b[1;32m    706\u001b[0m             \u001b[0;32mexcept\u001b[0m \u001b[0mtimeout\u001b[0m\u001b[0;34m:\u001b[0m\u001b[0;34m\u001b[0m\u001b[0;34m\u001b[0m\u001b[0m\n",
      "\u001b[0;32m/usr/lib/python3.10/ssl.py\u001b[0m in \u001b[0;36mrecv_into\u001b[0;34m(self, buffer, nbytes, flags)\u001b[0m\n\u001b[1;32m   1302\u001b[0m                   self.__class__)\n\u001b[0;32m-> 1303\u001b[0;31m             \u001b[0;32mreturn\u001b[0m \u001b[0mself\u001b[0m\u001b[0;34m.\u001b[0m\u001b[0mread\u001b[0m\u001b[0;34m(\u001b[0m\u001b[0mnbytes\u001b[0m\u001b[0;34m,\u001b[0m \u001b[0mbuffer\u001b[0m\u001b[0;34m)\u001b[0m\u001b[0;34m\u001b[0m\u001b[0;34m\u001b[0m\u001b[0m\n\u001b[0m\u001b[1;32m   1304\u001b[0m         \u001b[0;32melse\u001b[0m\u001b[0;34m:\u001b[0m\u001b[0;34m\u001b[0m\u001b[0;34m\u001b[0m\u001b[0m\n",
      "\u001b[0;32m/usr/lib/python3.10/ssl.py\u001b[0m in \u001b[0;36mread\u001b[0;34m(self, len, buffer)\u001b[0m\n\u001b[1;32m   1158\u001b[0m             \u001b[0;32mif\u001b[0m \u001b[0mbuffer\u001b[0m \u001b[0;32mis\u001b[0m \u001b[0;32mnot\u001b[0m \u001b[0;32mNone\u001b[0m\u001b[0;34m:\u001b[0m\u001b[0;34m\u001b[0m\u001b[0;34m\u001b[0m\u001b[0m\n\u001b[0;32m-> 1159\u001b[0;31m                 \u001b[0;32mreturn\u001b[0m \u001b[0mself\u001b[0m\u001b[0;34m.\u001b[0m\u001b[0m_sslobj\u001b[0m\u001b[0;34m.\u001b[0m\u001b[0mread\u001b[0m\u001b[0;34m(\u001b[0m\u001b[0mlen\u001b[0m\u001b[0;34m,\u001b[0m \u001b[0mbuffer\u001b[0m\u001b[0;34m)\u001b[0m\u001b[0;34m\u001b[0m\u001b[0;34m\u001b[0m\u001b[0m\n\u001b[0m\u001b[1;32m   1160\u001b[0m             \u001b[0;32melse\u001b[0m\u001b[0;34m:\u001b[0m\u001b[0;34m\u001b[0m\u001b[0;34m\u001b[0m\u001b[0m\n",
      "\u001b[0;31mKeyboardInterrupt\u001b[0m: ",
      "\nDuring handling of the above exception, another exception occurred:\n",
      "\u001b[0;31mAttributeError\u001b[0m                            Traceback (most recent call last)",
      "\u001b[0;32m/usr/local/lib/python3.10/dist-packages/IPython/core/interactiveshell.py\u001b[0m in \u001b[0;36mshowtraceback\u001b[0;34m(self, exc_tuple, filename, tb_offset, exception_only, running_compiled_code)\u001b[0m\n\u001b[1;32m   2098\u001b[0m                         \u001b[0;31m# in the engines. This should return a list of strings.\u001b[0m\u001b[0;34m\u001b[0m\u001b[0;34m\u001b[0m\u001b[0m\n\u001b[0;32m-> 2099\u001b[0;31m                         \u001b[0mstb\u001b[0m \u001b[0;34m=\u001b[0m \u001b[0mvalue\u001b[0m\u001b[0;34m.\u001b[0m\u001b[0m_render_traceback_\u001b[0m\u001b[0;34m(\u001b[0m\u001b[0;34m)\u001b[0m\u001b[0;34m\u001b[0m\u001b[0;34m\u001b[0m\u001b[0m\n\u001b[0m\u001b[1;32m   2100\u001b[0m                     \u001b[0;32mexcept\u001b[0m \u001b[0mException\u001b[0m\u001b[0;34m:\u001b[0m\u001b[0;34m\u001b[0m\u001b[0;34m\u001b[0m\u001b[0m\n",
      "\u001b[0;31mAttributeError\u001b[0m: 'KeyboardInterrupt' object has no attribute '_render_traceback_'",
      "\nDuring handling of the above exception, another exception occurred:\n",
      "\u001b[0;31mTypeError\u001b[0m                                 Traceback (most recent call last)",
      "    \u001b[0;31m[... skipping hidden 1 frame]\u001b[0m\n",
      "\u001b[0;32m/usr/local/lib/python3.10/dist-packages/IPython/core/interactiveshell.py\u001b[0m in \u001b[0;36mshowtraceback\u001b[0;34m(self, exc_tuple, filename, tb_offset, exception_only, running_compiled_code)\u001b[0m\n\u001b[1;32m   2099\u001b[0m                         \u001b[0mstb\u001b[0m \u001b[0;34m=\u001b[0m \u001b[0mvalue\u001b[0m\u001b[0;34m.\u001b[0m\u001b[0m_render_traceback_\u001b[0m\u001b[0;34m(\u001b[0m\u001b[0;34m)\u001b[0m\u001b[0;34m\u001b[0m\u001b[0;34m\u001b[0m\u001b[0m\n\u001b[1;32m   2100\u001b[0m                     \u001b[0;32mexcept\u001b[0m \u001b[0mException\u001b[0m\u001b[0;34m:\u001b[0m\u001b[0;34m\u001b[0m\u001b[0;34m\u001b[0m\u001b[0m\n\u001b[0;32m-> 2101\u001b[0;31m                         stb = self.InteractiveTB.structured_traceback(etype,\n\u001b[0m\u001b[1;32m   2102\u001b[0m                                             value, tb, tb_offset=tb_offset)\n\u001b[1;32m   2103\u001b[0m \u001b[0;34m\u001b[0m\u001b[0m\n",
      "\u001b[0;32m/usr/local/lib/python3.10/dist-packages/IPython/core/ultratb.py\u001b[0m in \u001b[0;36mstructured_traceback\u001b[0;34m(self, etype, value, tb, tb_offset, number_of_lines_of_context)\u001b[0m\n\u001b[1;32m   1365\u001b[0m         \u001b[0;32melse\u001b[0m\u001b[0;34m:\u001b[0m\u001b[0;34m\u001b[0m\u001b[0;34m\u001b[0m\u001b[0m\n\u001b[1;32m   1366\u001b[0m             \u001b[0mself\u001b[0m\u001b[0;34m.\u001b[0m\u001b[0mtb\u001b[0m \u001b[0;34m=\u001b[0m \u001b[0mtb\u001b[0m\u001b[0;34m\u001b[0m\u001b[0;34m\u001b[0m\u001b[0m\n\u001b[0;32m-> 1367\u001b[0;31m         return FormattedTB.structured_traceback(\n\u001b[0m\u001b[1;32m   1368\u001b[0m             self, etype, value, tb, tb_offset, number_of_lines_of_context)\n\u001b[1;32m   1369\u001b[0m \u001b[0;34m\u001b[0m\u001b[0m\n",
      "\u001b[0;32m/usr/local/lib/python3.10/dist-packages/IPython/core/ultratb.py\u001b[0m in \u001b[0;36mstructured_traceback\u001b[0;34m(self, etype, value, tb, tb_offset, number_of_lines_of_context)\u001b[0m\n\u001b[1;32m   1265\u001b[0m         \u001b[0;32mif\u001b[0m \u001b[0mmode\u001b[0m \u001b[0;32min\u001b[0m \u001b[0mself\u001b[0m\u001b[0;34m.\u001b[0m\u001b[0mverbose_modes\u001b[0m\u001b[0;34m:\u001b[0m\u001b[0;34m\u001b[0m\u001b[0;34m\u001b[0m\u001b[0m\n\u001b[1;32m   1266\u001b[0m             \u001b[0;31m# Verbose modes need a full traceback\u001b[0m\u001b[0;34m\u001b[0m\u001b[0;34m\u001b[0m\u001b[0m\n\u001b[0;32m-> 1267\u001b[0;31m             return VerboseTB.structured_traceback(\n\u001b[0m\u001b[1;32m   1268\u001b[0m                 \u001b[0mself\u001b[0m\u001b[0;34m,\u001b[0m \u001b[0metype\u001b[0m\u001b[0;34m,\u001b[0m \u001b[0mvalue\u001b[0m\u001b[0;34m,\u001b[0m \u001b[0mtb\u001b[0m\u001b[0;34m,\u001b[0m \u001b[0mtb_offset\u001b[0m\u001b[0;34m,\u001b[0m \u001b[0mnumber_of_lines_of_context\u001b[0m\u001b[0;34m\u001b[0m\u001b[0;34m\u001b[0m\u001b[0m\n\u001b[1;32m   1269\u001b[0m             )\n",
      "\u001b[0;32m/usr/local/lib/python3.10/dist-packages/IPython/core/ultratb.py\u001b[0m in \u001b[0;36mstructured_traceback\u001b[0;34m(self, etype, evalue, etb, tb_offset, number_of_lines_of_context)\u001b[0m\n\u001b[1;32m   1122\u001b[0m         \u001b[0;34m\"\"\"Return a nice text document describing the traceback.\"\"\"\u001b[0m\u001b[0;34m\u001b[0m\u001b[0;34m\u001b[0m\u001b[0m\n\u001b[1;32m   1123\u001b[0m \u001b[0;34m\u001b[0m\u001b[0m\n\u001b[0;32m-> 1124\u001b[0;31m         formatted_exception = self.format_exception_as_a_whole(etype, evalue, etb, number_of_lines_of_context,\n\u001b[0m\u001b[1;32m   1125\u001b[0m                                                                tb_offset)\n\u001b[1;32m   1126\u001b[0m \u001b[0;34m\u001b[0m\u001b[0m\n",
      "\u001b[0;32m/usr/local/lib/python3.10/dist-packages/IPython/core/ultratb.py\u001b[0m in \u001b[0;36mformat_exception_as_a_whole\u001b[0;34m(self, etype, evalue, etb, number_of_lines_of_context, tb_offset)\u001b[0m\n\u001b[1;32m   1080\u001b[0m \u001b[0;34m\u001b[0m\u001b[0m\n\u001b[1;32m   1081\u001b[0m \u001b[0;34m\u001b[0m\u001b[0m\n\u001b[0;32m-> 1082\u001b[0;31m         \u001b[0mlast_unique\u001b[0m\u001b[0;34m,\u001b[0m \u001b[0mrecursion_repeat\u001b[0m \u001b[0;34m=\u001b[0m \u001b[0mfind_recursion\u001b[0m\u001b[0;34m(\u001b[0m\u001b[0morig_etype\u001b[0m\u001b[0;34m,\u001b[0m \u001b[0mevalue\u001b[0m\u001b[0;34m,\u001b[0m \u001b[0mrecords\u001b[0m\u001b[0;34m)\u001b[0m\u001b[0;34m\u001b[0m\u001b[0;34m\u001b[0m\u001b[0m\n\u001b[0m\u001b[1;32m   1083\u001b[0m \u001b[0;34m\u001b[0m\u001b[0m\n\u001b[1;32m   1084\u001b[0m         \u001b[0mframes\u001b[0m \u001b[0;34m=\u001b[0m \u001b[0mself\u001b[0m\u001b[0;34m.\u001b[0m\u001b[0mformat_records\u001b[0m\u001b[0;34m(\u001b[0m\u001b[0mrecords\u001b[0m\u001b[0;34m,\u001b[0m \u001b[0mlast_unique\u001b[0m\u001b[0;34m,\u001b[0m \u001b[0mrecursion_repeat\u001b[0m\u001b[0;34m)\u001b[0m\u001b[0;34m\u001b[0m\u001b[0;34m\u001b[0m\u001b[0m\n",
      "\u001b[0;32m/usr/local/lib/python3.10/dist-packages/IPython/core/ultratb.py\u001b[0m in \u001b[0;36mfind_recursion\u001b[0;34m(etype, value, records)\u001b[0m\n\u001b[1;32m    380\u001b[0m     \u001b[0;31m# first frame (from in to out) that looks different.\u001b[0m\u001b[0;34m\u001b[0m\u001b[0;34m\u001b[0m\u001b[0m\n\u001b[1;32m    381\u001b[0m     \u001b[0;32mif\u001b[0m \u001b[0;32mnot\u001b[0m \u001b[0mis_recursion_error\u001b[0m\u001b[0;34m(\u001b[0m\u001b[0metype\u001b[0m\u001b[0;34m,\u001b[0m \u001b[0mvalue\u001b[0m\u001b[0;34m,\u001b[0m \u001b[0mrecords\u001b[0m\u001b[0;34m)\u001b[0m\u001b[0;34m:\u001b[0m\u001b[0;34m\u001b[0m\u001b[0;34m\u001b[0m\u001b[0m\n\u001b[0;32m--> 382\u001b[0;31m         \u001b[0;32mreturn\u001b[0m \u001b[0mlen\u001b[0m\u001b[0;34m(\u001b[0m\u001b[0mrecords\u001b[0m\u001b[0;34m)\u001b[0m\u001b[0;34m,\u001b[0m \u001b[0;36m0\u001b[0m\u001b[0;34m\u001b[0m\u001b[0;34m\u001b[0m\u001b[0m\n\u001b[0m\u001b[1;32m    383\u001b[0m \u001b[0;34m\u001b[0m\u001b[0m\n\u001b[1;32m    384\u001b[0m     \u001b[0;31m# Select filename, lineno, func_name to track frames with\u001b[0m\u001b[0;34m\u001b[0m\u001b[0;34m\u001b[0m\u001b[0m\n",
      "\u001b[0;31mTypeError\u001b[0m: object of type 'NoneType' has no len()"
     ]
    }
   ],
   "source": [
    "from SPARQLWrapper import SPARQLWrapper, JSON\n",
    "\n",
    "# DBPedia SPARQL endpoint\n",
    "sparql = SPARQLWrapper(\"https://dbpedia.org/sparql\")\n",
    "\n",
    "# Function to query DBPedia and get the matching entity URI and class\n",
    "def get_dbpedia_entity_and_class(skill_name):\n",
    "    query = f\"\"\"\n",
    "    SELECT DISTINCT ?entity ?class ?label\n",
    "    WHERE {{\n",
    "        ?entity rdfs:label ?label .\n",
    "        ?entity rdf:type ?class .\n",
    "        FILTER(LANG(?label) = \"en\" && CONTAINS(LCASE(?label), \"{skill_name.lower()}\"))\n",
    "    }} LIMIT 1\n",
    "    \"\"\"\n",
    "\n",
    "    sparql.setQuery(query)\n",
    "    sparql.setReturnFormat(JSON)\n",
    "    results = sparql.query().convert()\n",
    "\n",
    "    # Check if results are found and return\n",
    "    if len(results[\"results\"][\"bindings\"]) > 0:\n",
    "        result = results[\"results\"][\"bindings\"][0]\n",
    "        entity_uri = result['entity']['value']\n",
    "        class_uri = result['class']['value']\n",
    "        label = result['label']['value']\n",
    "        return entity_uri, class_uri, label\n",
    "    return None, None, None\n",
    "\n",
    "# Apply the function to all ESCO skills\n",
    "esco_skills[['dbpedia_entity_uri', 'dbpedia_class_uri', 'dbpedia_class_label']] = esco_skills['preferredLabel'].apply(lambda x: pd.Series(get_dbpedia_entity_and_class(x)))\n"
   ]
  },
  {
   "cell_type": "code",
   "execution_count": 15,
   "metadata": {
    "colab": {
     "base_uri": "https://localhost:8080/"
    },
    "executionInfo": {
     "elapsed": 600,
     "status": "ok",
     "timestamp": 1731250987939,
     "user": {
      "displayName": "fanis nitsos",
      "userId": "08569283295068203465"
     },
     "user_tz": -120
    },
    "id": "AG7a7t7rmVJm",
    "outputId": "8f7201ca-f4ac-4447-d23f-fae0896fc5b1"
   },
   "outputs": [
    {
     "name": "stdout",
     "output_type": "stream",
     "text": [
      "Error executing query: QueryBadFormed: A bad request has been sent to the endpoint: probably the SPARQL query is badly formed. \n",
      "\n",
      "Response:\n",
      "b'Virtuoso 37000 Error SP030: SPARQL compiler, line 0: Bad character \\'\\xc2\\' (0xc2) in SPARQL expression at \\'\\xc2\\'\\n\\nSPARQL query:\\n#output-format:application/sparql-results+json\\n\\nPREFIX dbo: <http://dbpedia.org/ontology/>\\nPREFIX rdfs: <http://www.w3.org/2000/01/rdf-schema#>\\nPREFIX skos: <http://www.w3.org/2004/02/skos/core#>\\n\\nSELECT \\xc2\\xa0 \\n DISTINCT ?entity ?entity_label WHERE {\\n  ?entity a dbo:Occupation ;\\n     rdfs:label ?entity_label .\\n  FILTER (CONTAINS(LCASE(?entity_label), LCASE(\"literature\")) OR\\n         ?entity skos:relatedMatch ?skill .\\n         FILTER (LCASE(?skill_label) = LCASE(\"literature\")) )\\n  OPTIONAL { ?entity dbo:abstract ?abstract }\\n  FILTER (langMatches(lang(?abstract), \"en\")) .\\n}\\n\\n'\n",
      "No matching entities found for the given skill name.\n"
     ]
    }
   ],
   "source": [
    "from SPARQLWrapper import SPARQLWrapper, JSON\n",
    "\n",
    "# Define the variable for the skill name (replace with your desired skill)\n",
    "skill_name = \"literature\"\n",
    "\n",
    "# Construct the SPARQL query (using DBpedia ontology properties)\n",
    "query = f\"\"\"\n",
    "PREFIX dbo: <http://dbpedia.org/ontology/>\n",
    "PREFIX rdfs: <http://www.w3.org/2000/01/rdf-schema#>\n",
    "PREFIX skos: <http://www.w3.org/2004/02/skos/core#>\n",
    "\n",
    "SELECT DISTINCT ?entity ?entity_label WHERE {{\n",
    "  ?entity a dbo:Occupation ;\n",
    "     rdfs:label ?entity_label .\n",
    "  FILTER (CONTAINS(LCASE(?entity_label), LCASE(\"{skill_name}\")) OR\n",
    "         ?entity skos:relatedMatch ?skill .\n",
    "         FILTER (LCASE(?skill_label) = LCASE(\"{skill_name}\")) )\n",
    "  OPTIONAL {{ ?entity dbo:abstract ?abstract }}\n",
    "  FILTER (langMatches(lang(?abstract), \"en\")) .\n",
    "}}\n",
    "\"\"\"\n",
    "\n",
    "# Create a SPARQLWrapper object\n",
    "sparql = SPARQLWrapper(\"https://dbpedia.org/sparql\")\n",
    "sparql.setQuery(query)\n",
    "sparql.setReturnFormat(JSON)\n",
    "\n",
    "# Execute the query and handle potential errors\n",
    "try:\n",
    "  results = sparql.query().convert()\n",
    "except Exception as e:\n",
    "  print(f\"Error executing query: {e}\")\n",
    "  results = None\n",
    "\n",
    "# Process the results (if successful)\n",
    "if results:\n",
    "  for result in results[\"results\"][\"bindings\"]:\n",
    "    entity_uri = result[\"entity\"][\"value\"]\n",
    "    entity_label = result[\"entity_label\"][\"value\"]\n",
    "    abstract = result.get(\"abstract\", {}).get(\"value\")\n",
    "    print(f\"Entity: {entity_label} ({entity_uri})\")\n",
    "    if abstract:\n",
    "      print(f\"Abstract: {abstract}\\n\")\n",
    "else:\n",
    "  print(\"No matching entities found for the given skill name.\")"
   ]
  },
  {
   "cell_type": "code",
   "execution_count": null,
   "metadata": {
    "id": "9gyE286ceqyB"
   },
   "outputs": [],
   "source": []
  }
 ],
 "metadata": {
  "colab": {
   "authorship_tag": "ABX9TyNMPd2HVLrDapn3lc9YfqDx",
   "provenance": []
  },
  "kernelspec": {
   "display_name": "Python 3",
   "name": "python3"
  },
  "language_info": {
   "name": "python"
  }
 },
 "nbformat": 4,
 "nbformat_minor": 0
}
